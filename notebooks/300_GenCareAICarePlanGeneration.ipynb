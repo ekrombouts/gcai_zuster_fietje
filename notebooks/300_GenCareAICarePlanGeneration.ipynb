{
  "cells": [
    {
      "cell_type": "markdown",
      "metadata": {
        "id": "view-in-github",
        "colab_type": "text"
      },
      "source": [
        "<a href=\"https://colab.research.google.com/github/ekrombouts/gcai_zuster_fietje/blob/main/300_GenCareAICarePlanGeneration.ipynb\" target=\"_parent\"><img src=\"https://colab.research.google.com/assets/colab-badge.svg\" alt=\"Open In Colab\"/></a>"
      ]
    },
    {
      "cell_type": "markdown",
      "metadata": {
        "id": "vwx-li06oX8C"
      },
      "source": [
        "## Creating a Careplan Dataset from GenCareAI Client records\n",
        "\n",
        "**Author:** Eva Rombouts  \n",
        "**Date:** 2024-09-16  \n",
        "**Updated:** 2024-11-30\n",
        "\n",
        "### Description\n",
        "This notebook summarizes nursing home client notes into the Careplan format using OpenAI’s GPT model via LangChain. It processes the data, generates careplans, and prepares the dataset by splitting it into training, validation, and test sets, and uploads it to the Hugging Face Hub for use in machine learning models."
      ]
    },
    {
      "cell_type": "markdown",
      "source": [
        "## Environment Setup and Library Imports"
      ],
      "metadata": {
        "id": "EIddGTJcE7Hf"
      }
    },
    {
      "cell_type": "code",
      "source": [
        "# When in Colab\n",
        "from google.colab import drive, userdata\n",
        "import os\n",
        "\n",
        "\n",
        "drive.mount('/content/drive')\n",
        "base_dir = \"/content/drive/My Drive/Colab Notebooks/GenCareAI\"\n",
        "open_ai_api_key = userdata.get(\"GCI_OPENAI_API_KEY\")\n",
        "\n",
        "!pip install -q datasets langchain langchain_community langchain_openai\n",
        "\n",
        "verbose = True"
      ],
      "metadata": {
        "id": "ufty-17OFS0H",
        "outputId": "5465e535-5ba6-45bc-af3b-d394515db93e",
        "colab": {
          "base_uri": "https://localhost:8080/"
        }
      },
      "execution_count": 1,
      "outputs": [
        {
          "output_type": "stream",
          "name": "stdout",
          "text": [
            "Drive already mounted at /content/drive; to attempt to forcibly remount, call drive.mount(\"/content/drive\", force_remount=True).\n"
          ]
        }
      ]
    },
    {
      "cell_type": "code",
      "execution_count": 2,
      "metadata": {
        "id": "0OOrSISU7r15"
      },
      "outputs": [],
      "source": [
        "import os\n",
        "import random\n",
        "import pandas as pd\n",
        "from tqdm import tqdm  # Progress bar\n",
        "from datasets import load_dataset, Dataset, DatasetDict  # For loading and managing datasets\n",
        "from typing import List\n",
        "\n",
        "# Langchain modules\n",
        "from langchain.output_parsers import PydanticOutputParser\n",
        "from langchain_core.prompts import PromptTemplate\n",
        "from langchain_community.callbacks import get_openai_callback\n",
        "\n",
        "# Pydantic library for data validation\n",
        "from pydantic import BaseModel, Field\n",
        "\n",
        "# OpenAI API integration using langchain\n",
        "from langchain_openai import ChatOpenAI\n",
        "\n",
        "# Scikit-learn library for splitting datasets into training and testing sets\n",
        "from sklearn.model_selection import train_test_split\n"
      ]
    },
    {
      "cell_type": "code",
      "execution_count": 3,
      "metadata": {
        "id": "qQEKWDLNv1QJ"
      },
      "outputs": [],
      "source": [
        "# Set parameters\n",
        "seed = 6\n",
        "\n",
        "# Data paths\n",
        "nursing_care_home_name = \"Gardenia\"\n",
        "# For reading data\n",
        "path_hf_records = f\"ekrombouts/{nursing_care_home_name}_records\"\n",
        "path_hf_clients = f\"ekrombouts/{nursing_care_home_name}_clients\"\n",
        "\n",
        "# For writing data\n",
        "path_hf_careplan = f\"ekrombouts/{nursing_care_home_name}_Careplan_dataset\"\n",
        "commit_message = \"Careplan dataset\"\n",
        "\n",
        "# File path for saving the generated Careplans\n",
        "fn_responses = os.path.join(base_dir, f\"data/care_pal/{nursing_care_home_name}_Careplan_dataset.pkl\")\n",
        "\n",
        "# Settings for Careplan generation\n",
        "model = \"gpt-4o-mini-2024-07-18\"\n",
        "temperature = 0.3\n",
        "\n",
        "sep_line = 50 * '-'\n"
      ]
    },
    {
      "cell_type": "markdown",
      "source": [
        "## Loading and Preprocessing Data\n",
        "Client records and notes from fictional clients of a nursing home are loaded, cleaned, and processed. The notes are grouped by week"
      ],
      "metadata": {
        "id": "FoCTuwkGJZov"
      }
    },
    {
      "cell_type": "code",
      "source": [
        "# Load dataset from Hugging Face and preprocess\n",
        "dataset = load_dataset(path_hf_records)\n",
        "df_records = dataset['train'].to_pandas()\n",
        "\n",
        "# Floor datetime to the first day of the month\n",
        "df_records['week'] = df_records['datetime'].dt.to_period('W').dt.to_timestamp()\n",
        "\n",
        "# Group records by 'client_id' and 'week', concatenating notes into one string\n",
        "df = (df_records\n",
        "    .dropna()\n",
        "    .assign(week=lambda df: pd.to_datetime(df['datetime']).dt.to_period('W').dt.to_timestamp()) # Add 'week' column\n",
        "    .groupby(['client_id', 'week'])\n",
        "    .agg({'note': lambda x: '\\n'.join(x)}) # Concatenate 'note' values\n",
        "    .reset_index()\n",
        "    .rename(columns={'note': 'weeknotes'})\n",
        ")\n",
        "\n",
        "if verbose:\n",
        "  print(f\"Rows in original df: {df_records.shape[0]}, rows in processed df: {df.shape[0]}\\n\")\n",
        "  print(f\"SAMPLES{sep_line}\\n{df.sample(3)}\\n\")\n",
        "  print(f\"\\nContext column (weeknotes) example:{sep_line}\\n{df['weeknotes'].iloc[0]}\")\n"
      ],
      "metadata": {
        "id": "0Vc3BWewlask",
        "outputId": "709a888f-543f-4c14-daab-a1dfb04d7983",
        "colab": {
          "base_uri": "https://localhost:8080/"
        }
      },
      "execution_count": 4,
      "outputs": [
        {
          "output_type": "stream",
          "name": "stdout",
          "text": [
            "Rows in original df: 28478, rows in processed df: 1681\n",
            "\n",
            "SAMPLES--------------------------------------------------\n",
            "     client_id       week                                          weeknotes\n",
            "1523    mag017 2022-12-19  Client vandaag wat stiller en teruggetrokken. ...\n",
            "19      cro001 2022-08-15  Client was vanochtend rustig en vredig in zijn...\n",
            "868     iri010 2022-04-11  Mevrouw was vanmorgen onrustig en had probleme...\n",
            "\n",
            "\n",
            "Context column (weeknotes) example:--------------------------------------------------\n",
            "De cliënt is vandaag gearriveerd in het verpleeghuis. Hij is voorgesteld aan het personeel en de medebewoners. Het zorgplan is opgesteld en de benodigde hulp bij persoonlijke verzorging is gepland.\n",
            "Cliënt heeft hulp nodig gehad bij aankleden en eten. Hij kon korte afstanden lopen met behulp van een rollator.\n",
            "Cliënt leek wat verward en vergeetachtig in de avond. Extra observatie gedaan, gedrag goed in de gaten gehouden.\n",
            "Vandaag had de cliënt wat moeite met de lichamelijke verzorging. Rustig benaderd en ondersteund bij alle ADL-activiteiten.\n",
            "Cliënt had een afspraak met de fysiotherapeut voor mobiliteitsoefeningen. Oefeningen verliepen goed, verbetering zichtbaar.\n",
            "Cliënt kon vanavond zijn familie niet meer herkennen en was prikkelbaar. Gerustgesteld en afleiding geboden.\n",
            "De bloeddruk van de cliënt was vanochtend hoger dan normaal. Medicatie gegeven en bloeddruk opnieuw gecontroleerd.\n",
            "Cliënt had hulp nodig bij persoonlijke verzorging. Tijdens de zorgmomenten was hij rustiger dan gisteren.\n",
            "Cliënt had vandaag een goede eetlust en kon zelfstandig eten met wat hulp. Diabetescontrole uitgevoerd en bloedsuikerwaarden genoteerd.\n"
          ]
        }
      ]
    },
    {
      "cell_type": "markdown",
      "source": [
        "## LLM Response Generation: Careplans"
      ],
      "metadata": {
        "id": "aMgbJRRcVB0x"
      }
    },
    {
      "cell_type": "code",
      "source": [
        "class CarePlanItem(BaseModel):\n",
        "    problem: str = Field(..., description=\"Beschrijving van het zorgprobleem. Zorg dat er slechts één probleem wordt beschreven\")\n",
        "    care_goal: str = Field(..., description=\"Beschrijving van het zorgdoel\")\n",
        "    interventions: List[str] = Field(..., description=\"Beschrijving van 1 tot max 3 interventies\")\n",
        "\n",
        "class CarePlan(BaseModel):\n",
        "    careplan: List[CarePlanItem] = Field(..., description=\"Lijst van 1 tot max 3 zorgdoelen en interventies\")\n",
        "\n",
        "# Set up a parser to handle the output and inject instructions into the prompt template\n",
        "pyd_parser = PydanticOutputParser(pydantic_object=CarePlan)"
      ],
      "metadata": {
        "id": "7-qr-dif6cle"
      },
      "execution_count": 5,
      "outputs": []
    },
    {
      "cell_type": "code",
      "source": [
        "template=\"\"\"\n",
        "Schrijf een zorgplan op basis van onderstaande rapportages.\n",
        "\n",
        "Belangrijk:\n",
        "- Gebruik uitsluitend informatie uit de rapportages. Voeg geen eigen interpretaties toe.\n",
        "- Richt je op algemene observaties en patronen, zonder de details van de rapportages over te nemen.\n",
        "\n",
        "---\n",
        "RAPPORTAGES:\n",
        "{rapportages}\n",
        "---\n",
        "\n",
        "{format_instructions}\n",
        "\"\"\"\n",
        "\n",
        "prompt_template = PromptTemplate(\n",
        "    template=template,\n",
        "    input_variables=[\"rapportages\"],\n",
        "    partial_variables={\"format_instructions\": pyd_parser.get_format_instructions()},\n",
        ")\n"
      ],
      "metadata": {
        "id": "POwEfuzncjyx"
      },
      "execution_count": 6,
      "outputs": []
    },
    {
      "cell_type": "code",
      "source": [
        "\n",
        "llm = ChatOpenAI(\n",
        "    api_key=open_ai_api_key,\n",
        "    model=model,\n",
        "    temperature=temperature\n",
        ")\n",
        "\n",
        "chain = prompt_template | llm | pyd_parser\n",
        "\n",
        "\n",
        "if verbose:\n",
        "    sample_id = 5\n",
        "    sample_context = df['weeknotes'].iloc[sample_id]\n",
        "\n",
        "    sample_prompt = template.format(\n",
        "            rapportages=sample_context,\n",
        "            format_instructions=pyd_parser.get_format_instructions()\n",
        "    )\n",
        "\n",
        "    result = chain.invoke({\"rapportages\": sample_context})\n",
        "\n",
        "    # print the CarePlan\n",
        "    print(sample_prompt)\n",
        "\n",
        "    print(\"RESPONSE\")\n",
        "\n",
        "    for i, item in enumerate(result.careplan):\n",
        "        print(f\"Probleem {i+1}:\") #Added problem number\n",
        "        print(item.problem)\n",
        "        print(item.care_goal)\n",
        "        for intervention in item.interventions:\n",
        "            print(f\"- {intervention}\")"
      ],
      "metadata": {
        "id": "sWTHsN8KYkIa",
        "colab": {
          "base_uri": "https://localhost:8080/"
        },
        "outputId": "5b9e17e3-5096-49da-9870-abd7da031f08"
      },
      "execution_count": 7,
      "outputs": [
        {
          "output_type": "stream",
          "name": "stdout",
          "text": [
            "\n",
            "Schrijf een zorgplan op basis van onderstaande rapportages.\n",
            "\n",
            "Belangrijk:\n",
            "- Gebruik uitsluitend informatie uit de rapportages. Voeg geen eigen interpretaties toe.\n",
            "- Richt je op algemene observaties en patronen, zonder de details van de rapportages over te nemen.\n",
            "\n",
            "---\n",
            "RAPPORTAGES:\n",
            "Diabetescontrole vandaag positief, bloedsuikerwaarden stabiel. Afspraken hierover doorgenomen met cliënt om zelfstandigheid te stimuleren.\n",
            "Familiebezoek liep vlot en harmonieus, cliënt leek zich op zijn gemak te voelen. Samen fotoalbums bekeken.\n",
            "Cliënt had vanavond last van hallucinaties, zag schaduwen op de muur en raakte in paniek. Zachtjes afgeleid en kalmerend toegesproken.\n",
            "Dhr. had vandaag moeite met opstaan en stond wankel op zijn benen. Samen naar de fysiotherapeut geweest voor oefeningen.\n",
            "Er was vanmiddag sprake van toenemende verwardheid en onrust, cliënt roept vaak om zijn moeder. Troostend bijgestaan en afleiding geboden.\n",
            "Cliënt reageerde agressief tegen medebewoners tijdens het avondeten. Direct ingegrepen en apart gezet om tot rust te komen.\n",
            "Cliënt had moeite met opstaan vanwege stijfheid in zijn benen. Geholpen met opstaan en naar de badkamer gaan.\n",
            "Cliënt at zijn lunch met weinig eetlust. Bloedsuiker gemeten en geen afwijkingen. Aangemoedigd om meer te eten.\n",
            "Tijdens de avondactiviteit was cliënt rusteloos en verward. Troost geboden en naar zijn kamer gebracht om tot rust te komen.\n",
            "In de ochtend dacht cliënt dat zijn kinderen op bezoek zouden komen. Hen gebeld om het bezoek af te stemmen. Cliënt reageerde positief.\n",
            "Tijdens de fysiotherapieoefeningen was cliënt beweeglijker dan normaal. Positieve vooruitgang opgemerkt in mobiliteit.\n",
            "Cliënt weigerde zijn avondmedicatie in te nemen. Herhaaldelijk uitgelegd waarom het belangrijk is. Uiteindelijk medicatie ingenomen.\n",
            "Cliënt was zoekende en wist niet meer waar zijn kamer was. Begeleid naar zijn kamer en geheugenkaart opgehangen voor herkenning.\n",
            "Tijdens de middagsnack was cliënt rusteloos en humeurig. Gepraat over vroegere herinneringen om hem gerust te stellen.\n",
            "Cliënt had een onrustige nacht en was vermoeid in de ochtend. Medicatie aangepast in overleg met de arts.\n",
            "Cliënt had moeite met opstaan en leek verward over de tijd. Rustig geholpen met aankleden en ontbijt.\n",
            "Familie belde met zorgen over cliënts toenemende vergeetachtigheid. Gesprek ingepland met familie om meer steun te bieden.\n",
            "Cliënt was angstig en wantrouwend tegenover het zorgteam. Uitleg gegeven over de dagelijkse routine en gerustgesteld.\n",
            "Cliënt herkende vandaag zijn vaste zorgverlener niet meer. Extra tijd genomen om een band op te bouwen en vertrouwen te herwinnen.\n",
            "Tijdens het bezoek van de diëtist weigerde cliënt om bepaald voedsel te eten. Dieet aangepast en alternatieven besproken.\n",
            "Cliënt voelde zich verdrietig en verlangde naar huis. Emotionele ondersteuning geboden en herinnerd aan de redenen voor zijn verblijf.\n",
            "---\n",
            "\n",
            "The output should be formatted as a JSON instance that conforms to the JSON schema below.\n",
            "\n",
            "As an example, for the schema {\"properties\": {\"foo\": {\"title\": \"Foo\", \"description\": \"a list of strings\", \"type\": \"array\", \"items\": {\"type\": \"string\"}}}, \"required\": [\"foo\"]}\n",
            "the object {\"foo\": [\"bar\", \"baz\"]} is a well-formatted instance of the schema. The object {\"properties\": {\"foo\": [\"bar\", \"baz\"]}} is not well-formatted.\n",
            "\n",
            "Here is the output schema:\n",
            "```\n",
            "{\"$defs\": {\"CarePlanItem\": {\"properties\": {\"problem\": {\"description\": \"Beschrijving van het zorgprobleem. Zorg dat er slechts één probleem wordt beschreven\", \"title\": \"Problem\", \"type\": \"string\"}, \"care_goal\": {\"description\": \"Beschrijving van het zorgdoel\", \"title\": \"Care Goal\", \"type\": \"string\"}, \"interventions\": {\"description\": \"Beschrijving van 1 tot max 3 interventies\", \"items\": {\"type\": \"string\"}, \"title\": \"Interventions\", \"type\": \"array\"}}, \"required\": [\"problem\", \"care_goal\", \"interventions\"], \"title\": \"CarePlanItem\", \"type\": \"object\"}}, \"properties\": {\"careplan\": {\"description\": \"Lijst van 1 tot max 3 zorgdoelen en interventies\", \"items\": {\"$ref\": \"#/$defs/CarePlanItem\"}, \"title\": \"Careplan\", \"type\": \"array\"}}, \"required\": [\"careplan\"]}\n",
            "```\n",
            "\n",
            "RESPONSE\n",
            "Probleem 1:\n",
            "Verhoogde verwardheid en angst bij de cliënt.\n",
            "Verhogen van het gevoel van veiligheid en verminderen van verwardheid.\n",
            "- Regelmatig geruststellen en uitleg geven over de dagelijkse routine.\n",
            "- Extra tijd nemen om een band op te bouwen met de cliënt.\n",
            "- Emotionele ondersteuning bieden en herinneren aan de redenen voor verblijf.\n",
            "Probleem 2:\n",
            "Moeite met mobiliteit en opstaan.\n",
            "Verbeteren van de mobiliteit en zelfstandigheid van de cliënt.\n",
            "- Fysiotherapie-oefeningen aanbieden en aanmoedigen.\n",
            "- Hulp bieden bij opstaan en dagelijkse activiteiten.\n",
            "- Stimuleren van zelfredzaamheid door het aanleren van technieken.\n",
            "Probleem 3:\n",
            "Weigering van medicatie en onrust tijdens maaltijden.\n",
            "Verhogen van de medicatietrouw en eetlust van de cliënt.\n",
            "- Uitleggen van het belang van medicatie en dieet.\n",
            "- Alternatieven bespreken met de diëtist en de cliënt.\n",
            "- Aangemoedigen om meer te eten tijdens maaltijden.\n"
          ]
        }
      ]
    },
    {
      "cell_type": "code",
      "source": [
        "# Function to generate the Careplan\n",
        "def generate_careplan(notes: str) -> CarePlan:\n",
        "    try:\n",
        "        result = chain.invoke({\"rapportages\": notes})\n",
        "        return result\n",
        "    except Exception as e:\n",
        "        print(f\"Error generating Careplan: {e}\")\n",
        "        return None\n",
        "\n",
        "# Load the previously saved dataframe if it exists, otherwise start fresh\n",
        "if os.path.exists(fn_responses):\n",
        "    df = pd.read_pickle(fn_responses)\n",
        "else:\n",
        "    df['careplan_response'] = None  # Ensure the column exists\n",
        "\n",
        "# Create a callback instance to track cost\n",
        "with get_openai_callback() as cb:\n",
        "\n",
        "    # Generate Summaries, process only new entries\n",
        "    with tqdm(total=len(df), desc=\"Generating Careplans\") as pbar:  # Set the total for the progress bar\n",
        "        for idx, row in df.iterrows():\n",
        "            if pd.isna(df.at[idx, 'careplan_response']):  # Process only new rows or missing responses\n",
        "                careplan = generate_careplan(row['weeknotes'])\n",
        "                df.at[idx, 'careplan_response'] = careplan\n",
        "\n",
        "            # Update the progress bar\n",
        "            pbar.update(1)\n",
        "\n",
        "            # Save progress every 100 iterations\n",
        "            if idx % 100 == 0:\n",
        "                df.to_pickle(fn_responses)\n",
        "                print(f\"Checkpoint saved at index {idx}, total cost so far: ${cb.total_cost:.4f}\")\n",
        "\n",
        "    # Save the final result\n",
        "    df.to_pickle(fn_responses)\n",
        "    print(\"Processing complete and final dataframe saved.\")\n",
        "    print(f\"Total cost: ${cb.total_cost:.4f}\")\n"
      ],
      "metadata": {
        "id": "8LzISH6fgctj",
        "colab": {
          "base_uri": "https://localhost:8080/"
        },
        "outputId": "e0222c19-747f-4224-bac4-50afe5b968e2"
      },
      "execution_count": 8,
      "outputs": [
        {
          "output_type": "stream",
          "name": "stderr",
          "text": [
            "Generating Careplans:   6%|▌         | 102/1681 [00:00<00:02, 661.97it/s]"
          ]
        },
        {
          "output_type": "stream",
          "name": "stdout",
          "text": [
            "Checkpoint saved at index 0, total cost so far: $0.0000\n",
            "Checkpoint saved at index 100, total cost so far: $0.0000\n"
          ]
        },
        {
          "output_type": "stream",
          "name": "stderr",
          "text": [
            "\rGenerating Careplans:  12%|█▏        | 202/1681 [00:00<00:03, 478.26it/s]"
          ]
        },
        {
          "output_type": "stream",
          "name": "stdout",
          "text": [
            "Checkpoint saved at index 200, total cost so far: $0.0000\n",
            "Checkpoint saved at index 300, total cost so far: $0.0000\n"
          ]
        },
        {
          "output_type": "stream",
          "name": "stderr",
          "text": [
            "Generating Careplans:  36%|███▌      | 602/1681 [00:00<00:01, 869.59it/s]"
          ]
        },
        {
          "output_type": "stream",
          "name": "stdout",
          "text": [
            "Checkpoint saved at index 400, total cost so far: $0.0000\n",
            "Checkpoint saved at index 500, total cost so far: $0.0000\n",
            "Checkpoint saved at index 600, total cost so far: $0.0000\n"
          ]
        },
        {
          "output_type": "stream",
          "name": "stderr",
          "text": [
            "\rGenerating Careplans:  47%|████▋     | 798/1681 [00:00<00:00, 1116.37it/s]"
          ]
        },
        {
          "output_type": "stream",
          "name": "stdout",
          "text": [
            "Checkpoint saved at index 700, total cost so far: $0.0000\n",
            "Checkpoint saved at index 800, total cost so far: $0.0000\n"
          ]
        },
        {
          "output_type": "stream",
          "name": "stderr",
          "text": [
            "Generating Careplans:  62%|██████▏   | 1034/1681 [00:01<00:00, 933.99it/s]"
          ]
        },
        {
          "output_type": "stream",
          "name": "stdout",
          "text": [
            "Checkpoint saved at index 900, total cost so far: $0.0000\n",
            "Checkpoint saved at index 1000, total cost so far: $0.0000\n"
          ]
        },
        {
          "output_type": "stream",
          "name": "stderr",
          "text": [
            "Generating Careplans:  74%|███████▎  | 1237/1681 [00:01<00:00, 928.91it/s]"
          ]
        },
        {
          "output_type": "stream",
          "name": "stdout",
          "text": [
            "Checkpoint saved at index 1100, total cost so far: $0.0000\n",
            "Checkpoint saved at index 1200, total cost so far: $0.0000\n"
          ]
        },
        {
          "output_type": "stream",
          "name": "stderr",
          "text": [
            "Generating Careplans:  85%|████████▌ | 1432/1681 [00:01<00:00, 919.97it/s]"
          ]
        },
        {
          "output_type": "stream",
          "name": "stdout",
          "text": [
            "Checkpoint saved at index 1300, total cost so far: $0.0000\n",
            "Checkpoint saved at index 1400, total cost so far: $0.0000\n"
          ]
        },
        {
          "output_type": "stream",
          "name": "stderr",
          "text": [
            "Generating Careplans: 100%|██████████| 1681/1681 [00:01<00:00, 890.14it/s]"
          ]
        },
        {
          "output_type": "stream",
          "name": "stdout",
          "text": [
            "Checkpoint saved at index 1500, total cost so far: $0.0000\n",
            "Checkpoint saved at index 1600, total cost so far: $0.0000\n"
          ]
        },
        {
          "output_type": "stream",
          "name": "stderr",
          "text": [
            "\n"
          ]
        },
        {
          "output_type": "stream",
          "name": "stdout",
          "text": [
            "Processing complete and final dataframe saved.\n",
            "Total cost: $0.0000\n"
          ]
        }
      ]
    },
    {
      "cell_type": "markdown",
      "source": [
        "## Dataset Creation, Splitting and Saving"
      ],
      "metadata": {
        "id": "Ow4eX46YVaQA"
      }
    },
    {
      "cell_type": "code",
      "source": [
        "instruction = '''Schrijf een zorgplan op basis van onderstaande rapportages. Gebruik alleen informatie uit de rapportages, zonder eigen interpretaties toe te voegen.\n",
        "\n",
        "Formatteer de output als een JSON-instantie die voldoet aan het onderstaande JSON-schema.\n",
        "```\n",
        "{”$defs”:{“CarePlanItem”:{“properties”:{“problem”:{“title”:“Problem”,“type”:“string”},“care_goal”:{“title”:“Care Goal”,“type”:“string”},“interventions”:{“title”:“Interventions”,“type”:“array”,“items”:{“type”:“string”}}},“required”:[“problem”,“care_goal”,“interventions”],“title”:“CarePlanItem”,“type”:“object”}},“properties”:{“careplan”:{“title”:“Careplan”,“type”:“array”,“items”:{”$ref”:”#/$defs/CarePlanItem”}}},“required”:[“careplan”]}\n",
        "```\n",
        "'''"
      ],
      "metadata": {
        "id": "7Im19WrEnk3m"
      },
      "execution_count": 9,
      "outputs": []
    },
    {
      "cell_type": "code",
      "source": [
        "# use method chaining to rename columns and reorder\n",
        "df_careplan = (\n",
        "    df.rename(columns={'weeknotes': 'context', 'careplan_response': 'response'})\n",
        "    .assign(\n",
        "        response=lambda df: df['response'].astype(str),\n",
        "        instruction=instruction\n",
        "    )\n",
        "    [['client_id', 'week', 'context', 'instruction', 'response']]\n",
        ")"
      ],
      "metadata": {
        "id": "hO8uYRnKkVrT"
      },
      "execution_count": 10,
      "outputs": []
    },
    {
      "cell_type": "code",
      "source": [
        "# Split the dataset and push to Hugging Face hub\n",
        "\n",
        "# Convert df to Hugging Face dataset\n",
        "dataset = Dataset.from_pandas(\n",
        "    df=df_careplan,\n",
        "    preserve_index=False\n",
        ")\n",
        "\n",
        "# Split the dataset into training(80%), validation(10%), and test(10%) sets\n",
        "train_testvalid_split = dataset.train_test_split(\n",
        "    test_size=0.2,\n",
        "    seed=seed\n",
        ")\n",
        "test_valid_split = train_testvalid_split['test'].train_test_split(\n",
        "    test_size=0.5,\n",
        "    seed=seed\n",
        ")\n",
        "\n",
        "dataset_dict = DatasetDict({\n",
        "    'train': train_testvalid_split['train'],\n",
        "    'validation': test_valid_split['train'],\n",
        "    'test': test_valid_split['test'],\n",
        "})\n",
        "\n",
        "# # Push the dataset to Hugging Face Hub\n",
        "# dataset_dict.push_to_hub(path_hf_careplan,\n",
        "#                          commit_message=commit_message,\n",
        "#                          private=True)\n",
        "\n"
      ],
      "metadata": {
        "id": "7nK8bqFamVC1"
      },
      "execution_count": 11,
      "outputs": []
    },
    {
      "cell_type": "code",
      "source": [
        "dataset_dict ['test'][6]"
      ],
      "metadata": {
        "id": "hW_DThatVF7D",
        "colab": {
          "base_uri": "https://localhost:8080/"
        },
        "outputId": "33e98e06-1710-4857-b304-4f943d470cc2"
      },
      "execution_count": 13,
      "outputs": [
        {
          "output_type": "execute_result",
          "data": {
            "text/plain": [
              "{'client_id': 'iri004',\n",
              " 'week': Timestamp('2023-01-02 00:00:00'),\n",
              " 'context': 'Bij de ochtendzorg viel op dat cliënte moeite had met eten vanwege de nierproblemen. Langzamer gegeten en voldoende vocht aangeboden.\\nActief deelgenomen aan het creatieve knutselproject. Cliënte was geconcentreerd bezig en leek te genieten van de bezigheid.\\nTijdens het avondeten leek cliënte vermoeider dan normaal. Extra rustmoment ingelast en geholpen met het naar bed gaan.\\nClient heeft moeite met eten vanwege slecht zicht. Leesbril ingezet tijdens ontbijt, dit leek te helpen.\\nClient vrolijk en actief tijdens de verzorging. Zong zelfs een liedje tijdens het wassen en aankleden.\\nClient heeft goed gereageerd op het krijgen van haar rollator. Kon zelfstandig kleine stukjes lopen in de gang.\\nClient weigerde in eerste instantie haar medicijnen in te nemen. Met wat geduld en uitleg toch gelukt om haar ze te laten nemen.\\nClient had wat moeite met herinneren waar ze was tijdens de lunch. Rustig uitgelegd en haar geholpen met eten.\\nClient vertoonde tekenen van vermoeidheid. Rust ingelast en haar naar bed gebracht voor een dutje.\\nClient was opgewekt en begon meteen te zingen bij het wakker worden. Heeft vrolijk meegeholpen met het aantrekken van haar kleding.\\nClient had enkele momenten waarop ze verward leek tijdens de lunch. Gerustgesteld en eten gegeven.\\nClient alert en interactief bij activiteit in de gemeenschappelijke ruimte. Lijkt te genieten van het gezelschap.\\nClient had vanmorgen last van vergeten waar de badkamer was. Begeleid naar de juiste ruimte en ondersteund met toiletbezoek.\\nClient had instabiele momenten tijdens het lopen met de rollator. Extra aandacht besteed aan balans en looptraining in de gang.\\nClient was rustig en teruggetrokken tijdens het diner. Lijkt minder interactie te willen, mogelijk vermoeidheid.\\nClient was van streek vanwege niemand die haar leek te horen roepen. Troost geboden en extra aandacht gegeven om haar gerust te stellen.\\nClient had vandaag problemen met zelfstandig eten vanwege wiebelige handen. Maaltijd geholpen en aangemoedigd om rustig te eten.\\nClient vrolijk en uitgelaten tijdens de avondactiviteit. Zong luidkeels mee met de muziek en danste in haar stoel.\\nClient leek verward bij het aantrekken van haar kleding vanmorgen. Rustig geholpen en uitleg gegeven over de stappen.\\nClient had plezier tijdens de geheugentraining. Actief meegedaan aan de oefeningen en leek beter te concentreren dan normaal.\\nClient had enkele momenten van onrust deze middag. Afleiding gezocht met een kort wandelingetje in de tuin, wat haar leek te kalmeren.',\n",
              " 'instruction': 'Schrijf een zorgplan op basis van onderstaande rapportages. Gebruik alleen informatie uit de rapportages, zonder eigen interpretaties toe te voegen.\\n\\nFormatteer de output als een JSON-instantie die voldoet aan het onderstaande JSON-schema.\\n```\\n{”$defs”:{“CarePlanItem”:{“properties”:{“problem”:{“title”:“Problem”,“type”:“string”},“care_goal”:{“title”:“Care Goal”,“type”:“string”},“interventions”:{“title”:“Interventions”,“type”:“array”,“items”:{“type”:“string”}}},“required”:[“problem”,“care_goal”,“interventions”],“title”:“CarePlanItem”,“type”:“object”}},“properties”:{“careplan”:{“title”:“Careplan”,“type”:“array”,“items”:{”$ref”:”#/$defs/CarePlanItem”}}},“required”:[“careplan”]}\\n```\\n',\n",
              " 'response': \"careplan=[CarePlanItem(problem='Moeite met eten door fysieke beperkingen en vermoeidheid.', care_goal='Cliënte kan zelfstandig en met plezier haar maaltijden nuttigen.', interventions=['Bied voldoende tijd en ondersteuning tijdens het eten.', 'Zorg voor een rustige omgeving en extra rustmomenten indien nodig.', 'Gebruik hulpmiddelen zoals een leesbril en assistentie bij het eten.']), CarePlanItem(problem='Verwarring en geheugenproblemen.', care_goal='Cliënte voelt zich veilig en kan zelfstandig haar omgeving herkennen.', interventions=['Geef duidelijke uitleg en begeleiding bij dagelijkse activiteiten.', 'Bied ondersteuning bij het herkennen van ruimtes en objecten.', 'Stimuleer deelname aan geheugentraining en sociale activiteiten.']), CarePlanItem(problem='Instabiliteit en onrust tijdens het lopen.', care_goal='Cliënte kan veilig en zelfstandig bewegen met de rollator.', interventions=['Bied extra aandacht en begeleiding tijdens het lopen.', 'Voer balans- en looptraining uit in een veilige omgeving.', 'Zorg voor afleiding en ontspanning bij momenten van onrust.'])]\"}"
            ]
          },
          "metadata": {},
          "execution_count": 13
        }
      ]
    },
    {
      "cell_type": "code",
      "source": [
        "commit_message"
      ],
      "metadata": {
        "id": "LtxfIgqIXzZx"
      },
      "execution_count": null,
      "outputs": []
    },
    {
      "cell_type": "code",
      "source": [],
      "metadata": {
        "id": "q0_QzokBtiya"
      },
      "execution_count": null,
      "outputs": []
    }
  ],
  "metadata": {
    "colab": {
      "provenance": [],
      "include_colab_link": true
    },
    "kernelspec": {
      "display_name": "gcai",
      "language": "python",
      "name": "python3"
    },
    "language_info": {
      "codemirror_mode": {
        "name": "ipython",
        "version": 3
      },
      "file_extension": ".py",
      "mimetype": "text/x-python",
      "name": "python",
      "nbconvert_exporter": "python",
      "pygments_lexer": "ipython3",
      "version": "3.10.12"
    }
  },
  "nbformat": 4,
  "nbformat_minor": 0
}
