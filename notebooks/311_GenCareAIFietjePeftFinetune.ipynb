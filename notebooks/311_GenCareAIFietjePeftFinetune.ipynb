{
  "cells": [
    {
      "cell_type": "markdown",
      "metadata": {
        "id": "view-in-github",
        "colab_type": "text"
      },
      "source": [
        "<a href=\"https://colab.research.google.com/github/ekrombouts/gcai_zuster_fietje/blob/main/notebooks/311_GenCareAIFietjePeftFinetune.ipynb\" target=\"_parent\"><img src=\"https://colab.research.google.com/assets/colab-badge.svg\" alt=\"Open In Colab\"/></a>"
      ]
    },
    {
      "cell_type": "markdown",
      "metadata": {
        "id": "qJ-jErPJmWy4"
      },
      "source": [
        "# Zuster Fietje, PEFT finetuning ekrombouts/zuster_fietje\n",
        "\n",
        "**Author:** Eva Rombouts  \n",
        "**Date:** 2024-07-28  \n",
        "**Updated:** 2024-10-18\n",
        "\n",
        "### Description\n",
        "This notebook is almost fully copied from: [Optimizing Phi-2: A Deep Dive into Fine-Tuning Small Language Models](https://medium.com/thedeephub/optimizing-phi-2-a-deep-dive-into-fine-tuning-small-language-models-9d545ac90a99), by Praveen Yerneni. Thank you!!\n",
        "It trains the chat version of [Fietje](https://huggingface.co/BramVanroy/fietje-2-chat), an adapated version of microsoft/phi-2, trained on Dutch texts."
      ]
    },
    {
      "cell_type": "markdown",
      "metadata": {
        "id": "SyLKlyMkORZO"
      },
      "source": [
        "## Setup"
      ]
    },
    {
      "cell_type": "code",
      "execution_count": 1,
      "metadata": {
        "id": "KQxgMZ32pzx-",
        "outputId": "a87e9558-49ed-48b6-cab4-f94867cca24a",
        "colab": {
          "base_uri": "https://localhost:8080/"
        }
      },
      "outputs": [
        {
          "output_type": "stream",
          "name": "stdout",
          "text": [
            "\u001b[?25l   \u001b[90m━━━━━━━━━━━━━━━━━━━━━━━━━━━━━━━━━━━━━━━━\u001b[0m \u001b[32m0.0/516.0 kB\u001b[0m \u001b[31m?\u001b[0m eta \u001b[36m-:--:--\u001b[0m\r\u001b[2K   \u001b[91m━━━━━━━━━━━━━━━━━━\u001b[0m\u001b[90m╺\u001b[0m\u001b[90m━━━━━━━━━━━━━━━━━━━━━\u001b[0m \u001b[32m235.5/516.0 kB\u001b[0m \u001b[31m6.8 MB/s\u001b[0m eta \u001b[36m0:00:01\u001b[0m\r\u001b[2K   \u001b[90m━━━━━━━━━━━━━━━━━━━━━━━━━━━━━━━━━━━━━━━━\u001b[0m \u001b[32m516.0/516.0 kB\u001b[0m \u001b[31m8.4 MB/s\u001b[0m eta \u001b[36m0:00:00\u001b[0m\n",
            "\u001b[?25h\u001b[?25l   \u001b[90m━━━━━━━━━━━━━━━━━━━━━━━━━━━━━━━━━━━━━━━━\u001b[0m \u001b[32m0.0/66.4 kB\u001b[0m \u001b[31m?\u001b[0m eta \u001b[36m-:--:--\u001b[0m\r\u001b[2K   \u001b[90m━━━━━━━━━━━━━━━━━━━━━━━━━━━━━━━━━━━━━━━━\u001b[0m \u001b[32m66.4/66.4 kB\u001b[0m \u001b[31m5.1 MB/s\u001b[0m eta \u001b[36m0:00:00\u001b[0m\n",
            "\u001b[2K   \u001b[90m━━━━━━━━━━━━━━━━━━━━━━━━━━━━━━━━━━━━━━━━\u001b[0m \u001b[32m53.1/53.1 kB\u001b[0m \u001b[31m4.1 MB/s\u001b[0m eta \u001b[36m0:00:00\u001b[0m\n",
            "\u001b[2K   \u001b[90m━━━━━━━━━━━━━━━━━━━━━━━━━━━━━━━━━━━━━━━━\u001b[0m \u001b[32m3.1/3.1 MB\u001b[0m \u001b[31m53.2 MB/s\u001b[0m eta \u001b[36m0:00:00\u001b[0m\n",
            "\u001b[2K   \u001b[90m━━━━━━━━━━━━━━━━━━━━━━━━━━━━━━━━━━━━━━━━\u001b[0m \u001b[32m92.5/92.5 kB\u001b[0m \u001b[31m8.2 MB/s\u001b[0m eta \u001b[36m0:00:00\u001b[0m\n",
            "\u001b[2K   \u001b[90m━━━━━━━━━━━━━━━━━━━━━━━━━━━━━━━━━━━━━━━━\u001b[0m \u001b[32m386.4/386.4 kB\u001b[0m \u001b[31m29.6 MB/s\u001b[0m eta \u001b[36m0:00:00\u001b[0m\n",
            "\u001b[?25h\u001b[31mERROR: pip's dependency resolver does not currently take into account all the packages that are installed. This behaviour is the source of the following dependency conflicts.\n",
            "ipython 7.34.0 requires jedi>=0.16, which is not installed.\u001b[0m\u001b[31m\n",
            "\u001b[0m"
          ]
        }
      ],
      "source": [
        "!pip install -q bitsandbytes flash_attn datasets peft codecarbon\n",
        "\n",
        "verbose = True"
      ]
    },
    {
      "cell_type": "code",
      "execution_count": 2,
      "metadata": {
        "id": "QpsFD-hEMMo6",
        "outputId": "caf50dcc-43f0-41a8-b728-80fdec79df04",
        "colab": {
          "base_uri": "https://localhost:8080/"
        }
      },
      "outputs": [
        {
          "output_type": "stream",
          "name": "stdout",
          "text": [
            "Drive already mounted at /content/drive; to attempt to forcibly remount, call drive.mount(\"/content/drive\", force_remount=True).\n"
          ]
        }
      ],
      "source": [
        "import torch\n",
        "from transformers import AutoModelForCausalLM, AutoTokenizer, BitsAndBytesConfig, TrainingArguments, Trainer\n",
        "from peft import prepare_model_for_kbit_training, LoraConfig, get_peft_model\n",
        "\n",
        "from google.colab import drive, runtime\n",
        "import time\n",
        "from datasets import load_dataset, Dataset, DatasetDict\n",
        "\n",
        "from accelerate import FullyShardedDataParallelPlugin, Accelerator\n",
        "from torch.distributed.fsdp.fully_sharded_data_parallel import FullOptimStateDictConfig, FullStateDictConfig\n",
        "\n",
        "from codecarbon import EmissionsTracker\n",
        "\n",
        "drive.mount('/content/drive')\n"
      ]
    },
    {
      "cell_type": "code",
      "execution_count": 3,
      "metadata": {
        "id": "pZWtnR2WMPR-"
      },
      "outputs": [],
      "source": [
        "# The base model from Hugging Face that will be finetuned\n",
        "base_model = \"ekrombouts/zuster_fietje3\"\n",
        "\n",
        "# The name of the finetuned model to be saved\n",
        "finetuned_model = \"zuster_fietje_peft3\"\n",
        "\n",
        "# Commit message for version control\n",
        "commit_message = \"full finetuned on Olympia_SAMPC_dataset for 2 epochs, Gardenia_instruct_dataset for 3 epochs, now PEFT finetuned on Gardenia_Careplan_dataset for 1 epochs\"\n",
        "\n",
        "# Path to the dataset on Hugging Face that will be used for finetuning\n",
        "path_dataset = \"ekrombouts/Gardenia_Careplan_dataset\"\n"
      ]
    },
    {
      "cell_type": "markdown",
      "metadata": {
        "id": "LfTAS_SRfJ6y"
      },
      "source": [
        "## Load model and tokenizer\n",
        "\n",
        "The model is loaded in `4-bit` which is the \"Quantization\" part of QLORA. The memory footprint of this is much smaller then the default.\n"
      ]
    },
    {
      "cell_type": "code",
      "execution_count": 4,
      "metadata": {
        "id": "jCpMhnh0hh0t",
        "outputId": "15f2fed9-6d65-4e0c-b35a-080e4073d16e",
        "colab": {
          "base_uri": "https://localhost:8080/",
          "height": 67,
          "referenced_widgets": [
            "e81ad492f69f4370a3f8affbbef3727c",
            "6423dae1257c4dff9e75b9194279cdf2",
            "d4912bd716a94f51898a3cbcd0e63cc6",
            "18a709d2b67d47dbb1dfa9f9d23bc6b5",
            "18fab91d29d94e638311d1876736d478",
            "8a3b2c10043b45f1857b29e33e06bdb6",
            "fe99924bd31f45c088ae9620a0221a58",
            "b8203fba14464c75ac548238a7203557",
            "641fd54dd11c493eb276d81f4f8525ef",
            "b4a9a684c40149f3ae574686d12aae90",
            "e19b3d09213b49c8b9242c09379a0c91"
          ]
        }
      },
      "outputs": [
        {
          "output_type": "display_data",
          "data": {
            "text/plain": [
              "Loading checkpoint shards:   0%|          | 0/2 [00:00<?, ?it/s]"
            ],
            "application/vnd.jupyter.widget-view+json": {
              "version_major": 2,
              "version_minor": 0,
              "model_id": "e81ad492f69f4370a3f8affbbef3727c"
            }
          },
          "metadata": {}
        },
        {
          "output_type": "stream",
          "name": "stdout",
          "text": [
            "Memory footprint: 1.775247666 GB\n"
          ]
        }
      ],
      "source": [
        "# Configuration to load model in 4-bit quantized\n",
        "bnb_config = BitsAndBytesConfig(\n",
        "    load_in_4bit=True,\n",
        "    bnb_4bit_quant_type='nf4',\n",
        "    bnb_4bit_compute_dtype='float16',\n",
        "    bnb_4bit_use_double_quant=True\n",
        ")\n",
        "\n",
        "\n",
        "#Loading the model with compatible settings\n",
        "model = AutoModelForCausalLM.from_pretrained(\n",
        "    base_model,\n",
        "    device_map='auto',\n",
        "    quantization_config=bnb_config,\n",
        "    attn_implementation='flash_attention_2',\n",
        "    trust_remote_code=True\n",
        ")\n",
        "\n",
        "# Setting up the tokenizer\n",
        "tokenizer = AutoTokenizer.from_pretrained(\n",
        "    base_model,\n",
        "    add_eos_token=True,\n",
        "    trust_remote_code=True\n",
        ")\n",
        "\n",
        "tokenizer.pad_token = tokenizer.eos_token\n",
        "tokenizer.truncation_side = 'left'\n",
        "\n",
        "if verbose:\n",
        "    print(f\"Memory footprint: {model.get_memory_footprint() / 1e9} GB\")"
      ]
    },
    {
      "cell_type": "code",
      "execution_count": 5,
      "metadata": {
        "id": "teSp0jIXzedK",
        "outputId": "096801f2-ddbe-49a2-da90-df42156f6b75",
        "colab": {
          "base_uri": "https://localhost:8080/"
        }
      },
      "outputs": [
        {
          "output_type": "stream",
          "name": "stdout",
          "text": [
            "DatasetDict({\n",
            "    train: Dataset({\n",
            "        features: ['client_id', 'week', 'context', 'instruction', 'response'],\n",
            "        num_rows: 1344\n",
            "    })\n",
            "    validation: Dataset({\n",
            "        features: ['client_id', 'week', 'context', 'instruction', 'response'],\n",
            "        num_rows: 168\n",
            "    })\n",
            "    test: Dataset({\n",
            "        features: ['client_id', 'week', 'context', 'instruction', 'response'],\n",
            "        num_rows: 169\n",
            "    })\n",
            "})\n"
          ]
        }
      ],
      "source": [
        "# Load data\n",
        "dataset = load_dataset(path_dataset)\n",
        "train_dataset = dataset['train']\n",
        "val_dataset = dataset['validation']\n",
        "\n",
        "if verbose:\n",
        "    print(dataset)"
      ]
    },
    {
      "cell_type": "code",
      "source": [
        "def create_prompt(row: dict, add_response: bool = True) -> str:\n",
        "    \"\"\"\n",
        "    Generates a prompt based on the input data in 'row'.\n",
        "\n",
        "    Args:\n",
        "        row (dict): A dictionary containing 'context', 'instruction', and optionally 'response'.\n",
        "        add_response (bool): If True, the prompt will include the 'response'.\n",
        "                             If False, only 'context' and 'instruction' will be included.\n",
        "\n",
        "    Returns:\n",
        "        str: The generated prompt in text format.\n",
        "    \"\"\"\n",
        "    # Base prompt (without response)\n",
        "    prompt = f\"\"\"|CONTEXT|\n",
        "{row.get('context', '')}\n",
        "\n",
        "|INSTRUCTION|\n",
        "{row.get('instruction', '')}\n",
        "\n",
        "|RESPONSE|\n",
        "\"\"\"\n",
        "\n",
        "    # Append response if 'add_response' is True and 'response' exists\n",
        "    if add_response and 'response' in row:\n",
        "        prompt += f\"{row['response']}\\n\"\n",
        "\n",
        "    return prompt\n"
      ],
      "metadata": {
        "id": "4CjWBpP92V96"
      },
      "execution_count": 6,
      "outputs": []
    },
    {
      "cell_type": "code",
      "source": [
        "# Show a random example of the model's output before training\n",
        "if verbose:\n",
        "    import random\n",
        "    row = random.choice(train_dataset)  # Select a random row from the training dataset\n",
        "    prompt = create_prompt(row, False)  # Create the prompt from the selected dataset row\n",
        "    print(prompt)\n",
        "\n",
        "    # Convert the prompt into tokens that the model can understand\n",
        "    input_ids = tokenizer(prompt, return_tensors=\"pt\").input_ids.to(model.device)\n",
        "    attention_mask = tokenizer(prompt, return_tensors=\"pt\", padding=True).attention_mask.to(model.device)\n",
        "\n",
        "    # Enable the model's cache for faster generation and switch to evaluation mode\n",
        "    model.config.use_cache = True\n",
        "    model.eval()\n",
        "\n",
        "    # Generate a response based on the input prompt\n",
        "    output = model.generate(\n",
        "        input_ids,\n",
        "        attention_mask=attention_mask,\n",
        "        max_new_tokens=150,  # Limit the number of new tokens generated to 150\n",
        "        do_sample=True,      # Use sampling to introduce randomness into the generation\n",
        "        top_p=0.95,          # Use nucleus sampling with a probability threshold of 0.95\n",
        "        top_k=50,            # Consider the top 50 tokens when sampling for each step\n",
        "        temperature=0.7,     # Set the temperature to 0.7 to control randomness (lower = more conservative)\n",
        "        num_return_sequences=1,  # Generate only one sequence\n",
        "        eos_token_id=tokenizer.eos_token_id,  # End the generation when the EOS token is reached\n",
        "        pad_token_id=tokenizer.eos_token_id   # Use the EOS token for padding\n",
        "    )\n",
        "\n",
        "    # Convert the generated token sequence back into text\n",
        "    generated_text = tokenizer.decode(output[0], skip_special_tokens=True)\n",
        "    generated_response = generated_text[len(prompt):].strip()  # Remove the prompt part from the output\n",
        "\n",
        "    # Display the generated response and the actual reference response from the dataset\n",
        "    print(\"GENERATED RESPONSE:\")\n",
        "    print(generated_response)\n",
        "    print(\"\\nREFERENCE RESPONSE:\")\n",
        "    print(row['response'])\n"
      ],
      "metadata": {
        "id": "6Jhs4TlNNi05",
        "outputId": "62809479-2e24-47cd-8679-31576bda1ef3",
        "colab": {
          "base_uri": "https://localhost:8080/"
        }
      },
      "execution_count": 7,
      "outputs": [
        {
          "output_type": "stream",
          "name": "stdout",
          "text": [
            "|CONTEXT|\n",
            "Cliënt is aangekomen in het verpleeghuis. Kennismakingsgesprek gehad en eerste zorgplan opgesteld.\n",
            "Cliënt begint langzaamaan te wennen aan de nieuwe omgeving. Lichte hulp geboden bij aankleden en mobiliteit met rollator.\n",
            "Cliënt gestimuleerd om zelfstandig te eten. Oefeningen gedaan om mobiliteit te behouden met behulp van de fysiotherapeut.\n",
            "Cliënt vandaag rustig en stil, lijkt soms in haar eigen wereld te leven. Extra aandacht besteed aan persoonlijke verzorging.\n",
            "Cliënt had last van hypertensie, bloeddruk gecontroleerd en medicatie toegediend volgens voorschrift van de arts.\n",
            "Cliënt vandaag wat meer vermoeid dan normaal. Gerustgesteld en comfort geboden door middel van ontspanningsoefeningen.\n",
            "Cliënt actief gestimuleerd om kleine afstanden te lopen met rollator. Staat open voor oefeningen en interactie met zorgpersoneel.\n",
            "Cliënt geluncht in de huiskamer en zelfstandig gegeten. Geholpen bij mobiliteit naar de activiteitenruimte voor een groepsactiviteit.\n",
            "Cliënt vandaag wat verward, mogelijk door jichtklachten. Gesprek gehad met behandelend arts voor aanpassing medicatie.\n",
            "Cliënt vanmorgen lichte duizeligheid bij opstaan. Extra zorg geboden bij het opstaan en aankleden om valincidenten te voorkomen.\n",
            "Cliënt vanmiddag deelgenomen aan geheugentraining om cognitieve functies te stimuleren. Positieve reactie en betrokkenheid gemerkt.\n",
            "Cliënt vanavond rustig en tevreden, genoten van de avondmaaltijd. Geassisteerd bij persoonlijke verzorging voor het slapengaan.\n",
            "\n",
            "|INSTRUCTION|\n",
            "Schrijf een zorgplan op basis van onderstaande rapportages. Gebruik alleen informatie uit de rapportages, zonder eigen interpretaties toe te voegen.\n",
            "\n",
            "Formatteer de output als een JSON-instantie die voldoet aan het onderstaande JSON-schema.\n",
            "```\n",
            "{”$defs”:{“CarePlanItem”:{“properties”:{“problem”:{“title”:“Problem”,“type”:“string”},“care_goal”:{“title”:“Care Goal”,“type”:“string”},“interventions”:{“title”:“Interventions”,“type”:“array”,“items”:{“type”:“string”}}},“required”:[“problem”,“care_goal”,“interventions”],“title”:“CarePlanItem”,“type”:“object”}},“properties”:{“careplan”:{“title”:“Careplan”,“type”:“array”,“items”:{”$ref”:”#/$defs/CarePlanItem”}}},“required”:[“careplan”]}\n",
            "```\n",
            "\n",
            "\n",
            "|RESPONSE|\n",
            "\n",
            "GENERATED RESPONSE:\n",
            "|INSTRUCTION|\n",
            "Beschrijf de mobiliteit van mevrouw.\n",
            "\n",
            "REFERENCE RESPONSE:\n",
            "careplan=[CarePlanItem(problem='Verminderde mobiliteit en behoefte aan ondersteuning bij dagelijkse activiteiten.', care_goal='Cliënt bevorderen in zelfstandigheid en mobiliteit.', interventions=['Cliënt stimuleren om zelfstandig te eten.', 'Oefeningen met fysiotherapeut om mobiliteit te behouden.', 'Actief aanmoedigen om kleine afstanden te lopen met rollator.']), CarePlanItem(problem='Hypertensie en gerelateerde symptomen zoals duizeligheid.', care_goal=\"Bloeddruk stabiliseren en valrisico's minimaliseren.\", interventions=['Bloeddruk regelmatig controleren en medicatie toedienen volgens voorschrift.', 'Extra zorg bieden bij opstaan en aankleden.', 'Geruststelling en comfort bieden door ontspanningsoefeningen.']), CarePlanItem(problem='Cognitieve achteruitgang en verwardheid.', care_goal='Cognitieve functies stimuleren en betrokkenheid bevorderen.', interventions=['Deelname aan geheugentraining om cognitieve functies te stimuleren.', 'Persoonlijke aandacht besteden tijdens activiteiten.', 'Gesprekken aangaan om betrokkenheid te vergroten.'])]\n"
          ]
        }
      ]
    },
    {
      "cell_type": "code",
      "execution_count": 8,
      "metadata": {
        "id": "cjiMMZ-gkotJ"
      },
      "outputs": [],
      "source": [
        "def collate_and_tokenize(row):\n",
        "    \"\"\"\n",
        "    Tokenizes and prepares a dataset sample for training.\n",
        "\n",
        "    Args:\n",
        "        row (dict): A single row or sample from the dataset, typically containing\n",
        "                    input text fields.\n",
        "\n",
        "    Returns:\n",
        "        dict: A dictionary containing tokenized input tensors and labels, with keys:\n",
        "              - 'input_ids': Tokenized input IDs for the model.\n",
        "              - 'attention_mask': Attention mask indicating which tokens should be attended to.\n",
        "              - 'labels': Tokenized labels for model training, identical to input_ids.\n",
        "    \"\"\"\n",
        "\n",
        "    # Generate the prompt from the dataset row\n",
        "    prompt = create_prompt(\n",
        "        row=row,\n",
        "        add_response=True,\n",
        "    )\n",
        "\n",
        "    # Tokenize the prompt and prepare input tensors\n",
        "    encoded = tokenizer(\n",
        "        prompt,\n",
        "        return_tensors=\"pt\",   # Return tensors in PyTorch format\n",
        "        padding=\"max_length\",  # Pad the input to the maximum length\n",
        "        truncation=True,       # Truncate inputs that are longer than the max length\n",
        "        max_length=2048,       # Set the maximum length for input tokens\n",
        "    )\n",
        "\n",
        "    # Create labels by duplicating input IDs for the model to predict\n",
        "    encoded[\"labels\"] = encoded[\"input_ids\"].clone()\n",
        "\n",
        "    return encoded  # Return the tokenized data with labels\n"
      ]
    },
    {
      "cell_type": "code",
      "execution_count": 9,
      "metadata": {
        "id": "RZLVRL2Wk3vj",
        "outputId": "5cb887cd-3339-4822-be76-de2f65fca8e8",
        "colab": {
          "base_uri": "https://localhost:8080/",
          "height": 49,
          "referenced_widgets": [
            "2f4a5fa822ab4796986cf7b0036e48b5",
            "3dfcf85b7e8f4cbca407c5e16db16666",
            "06b0ca279e394cce989a733bd269020d",
            "710d226e5124482aa99e7b62263e75ea",
            "9e2a81742e1e4a02968061f738a17b6f",
            "60cdf15e6171446eb0407effbda9526a",
            "3f64e05c785745398d07b34fe912e306",
            "1dad83f038544ee5a4f207f743aa7edf",
            "ce3c1311a3fa40eda44be2c5a6aafcbc",
            "e3760b4a0ad54a1abd58f34a73a9cf41",
            "3a833cd60cfc45c4ab2b839e0f8937c7"
          ]
        }
      },
      "outputs": [
        {
          "output_type": "display_data",
          "data": {
            "text/plain": [
              "Map:   0%|          | 0/168 [00:00<?, ? examples/s]"
            ],
            "application/vnd.jupyter.widget-view+json": {
              "version_major": 2,
              "version_minor": 0,
              "model_id": "2f4a5fa822ab4796986cf7b0036e48b5"
            }
          },
          "metadata": {}
        }
      ],
      "source": [
        "#We will just keep the input_ids and labels that we add in function above.\n",
        "columns_to_remove = ['client_id', 'week', 'context', 'instruction', 'response']\n",
        "\n",
        "#tokenize the training and validation datasets\n",
        "tokenized_dataset_train = train_dataset.map(\n",
        "    collate_and_tokenize,\n",
        "    batched=True,\n",
        "    batch_size=1,\n",
        "    remove_columns=columns_to_remove\n",
        ")\n",
        "\n",
        "tokenized_dataset_val = val_dataset.map(\n",
        "    collate_and_tokenize,\n",
        "    batched=True,\n",
        "    batch_size=1,\n",
        "    remove_columns=columns_to_remove\n",
        ")\n"
      ]
    },
    {
      "cell_type": "code",
      "execution_count": 10,
      "metadata": {
        "id": "Tez7pYN4jqTF",
        "outputId": "43ba4b1e-bdf0-48c9-fd68-399777582079",
        "colab": {
          "base_uri": "https://localhost:8080/"
        }
      },
      "outputs": [
        {
          "output_type": "stream",
          "name": "stdout",
          "text": [
            "|CONTEXT|\n",
            "['Mevrouw was alert en actief tijdens de ochtendverzorging. Positieve interactie en geen tekenen van verwardheid of agitatie.\\nMevrouw was rusteloos in de middag en leek ongedurig. Extra wandeling in de tuin om haar te kalmeren en afleiding te bieden.\\nMevrouw genoot van de muziektherapie en was ontspannen tijdens de sessie. Positieve gemoedstoestand na afloop.\\nMevrouw was verward over de dag van de week en leek in de war. Bevestigd welke dag het is en rustig begeleid naar de gemeenschappelijke ruimte.\\nMevrouw leek minder agitatie te ervaren vandaag, meer coöperatief en minder verward. Positieve ontwikkeling in haar gedrag opgemerkt.\\nMevrouw vertoonde tekenen van vermoeidheid en had moeite met de avondverzorging. Extra rustmoment ingelast en kalme benadering toegepast.\\nCliënte heeft rustig ontbeten en leek vrolijk tijdens de ochtendverzorging. Er zijn geen nieuwe gezondheidsproblemen gesignaleerd.\\nCliënte had begeleiding nodig bij het middageten vanwege verminderde eetlust. Desondanks blijft ze stabiel en lijkt ze comfortabel.\\nCliënte vertoonde wat agitatie tijdens het avondeten, vermoedelijk vanwege vermoeidheid. Na rust en wat afleiding was ze weer ontspannen.\\nCliënte had vanmorgen wat moeite met gehoorverlies, waardoor de communicatie langzamer verliep. Extra geduld en duidelijke articulatie waren nodig.\\nCliënte was in de middag wat verward en kon niet goed plaatsen waar ze was. Begeleiding heeft haar gerustgesteld en uitleg gegeven.\\nCliënte heeft genoten van de avondactiviteit, waardoor ze sociale interactie had met medebewoners. Haar humeur leek positief en ontspannen.\\nCliënte was vanmorgen alert en reageerde goed op de verzorging. Haar mobiliteit met de rollator binnen lijkt stabiel gebleven te zijn.\\nCliënte had een rustige middag en deed mee aan een geheugenspelletje met de zorgmedewerkers. Geen tekenen van onrust of agitatie.\\nCliënte leek in de avond wat vermoeid en had behoefte aan extra rust. Ze is op tijd naar bed gebracht met rustgevende muziek.\\nCliënte had een rustige start van de dag en leek helder tijdens de ochtendverzorging. Geen opvallende veranderingen in gezondheidssituatie.\\nCliënte had wat extra hulp nodig bij het aankleden vanwege stijfheid. Ze toonde echter geen pijnklachten of andere ongemakken.\\nCliënte was in de avond wat onrustig en leek moeite te hebben met de drukte in de huiskamer. Rustige activiteiten boden afleiding.\\nCliënte had vanmorgen extra ondersteuning nodig bij de persoonlijke verzorging vanwege vermoeidheid. Alle handelingen zijn met respect uitgevoerd.\\nCliënte heeft de lunch in de tuinkamer genoten en leek te genieten van de verandering van omgeving. Ze was goed aanspreekbaar.\\nCliënte was in de avond wat afwezig en reageerde niet direct op vragen van het personeel. Het lijkt haar omgeving soms niet meer te herkennen.']\n",
            "\n",
            "|INSTRUCTION|\n",
            "['Schrijf een zorgplan op basis van onderstaande rapportages. Gebruik alleen informatie uit de rapportages, zonder eigen interpretaties toe te voegen.\\n\\nFormatteer de output als een JSON-instantie die voldoet aan het onderstaande JSON-schema.\\n```\\n{”$defs”:{“CarePlanItem”:{“properties”:{“problem”:{“title”:“Problem”,“type”:“string”},“care_goal”:{“title”:“Care Goal”,“type”:“string”},“interventions”:{“title”:“Interventions”,“type”:“array”,“items”:{“type”:“string”}}},“required”:[“problem”,“care_goal”,“interventions”],“title”:“CarePlanItem”,“type”:“object”}},“properties”:{“careplan”:{“title”:“Careplan”,“type”:“array”,“items”:{”$ref”:”#/$defs/CarePlanItem”}}},“required”:[“careplan”]}\\n```\\n']\n",
            "\n",
            "|RESPONSE|\n",
            "[\"careplan=[CarePlanItem(problem='Vermoeidheid en onrust, vooral in de middag en avond.', care_goal='Verbeteren van de algehele gemoedstoestand en verminderen van onrust.', interventions=['Bieden van extra rustmomenten tijdens de dag.', 'Organiseren van rustige activiteiten en afleiding in de avond.', 'Toepassen van een kalme benadering tijdens verzorging en begeleiding.']), CarePlanItem(problem='Verwarring over tijd en omgeving.', care_goal='Verhogen van het gevoel van veiligheid en oriëntatie.', interventions=['Regelmatig bevestigen van de dag en tijd.', 'Rustige begeleiding naar gemeenschappelijke ruimtes.', 'Gebruik van herkenbare en vertrouwde activiteiten.']), CarePlanItem(problem='Verminderde eetlust en behoefte aan ondersteuning bij maaltijden.', care_goal='Behouden van een stabiele voedingsinname.', interventions=['Bieden van extra begeleiding tijdens maaltijden.', 'Variëren van de eetomgeving om de eetlust te stimuleren.', 'Observeren van eetgedrag en indien nodig aanpassingen maken.'])]\"]\n",
            "\n"
          ]
        }
      ],
      "source": [
        "if verbose:\n",
        "    #Check if tokenization looks good\n",
        "    input_ids = tokenized_dataset_val[1]['input_ids']\n",
        "\n",
        "    decoded = tokenizer.decode(\n",
        "        input_ids,\n",
        "        skip_special_tokens=True\n",
        "    )\n",
        "\n",
        "    print(decoded)"
      ]
    },
    {
      "cell_type": "code",
      "execution_count": 11,
      "metadata": {
        "id": "vB9NMBzasFcT"
      },
      "outputs": [],
      "source": [
        "fsdp_plugin = FullyShardedDataParallelPlugin(\n",
        "    state_dict_config=FullStateDictConfig(offload_to_cpu=True, rank0_only=False),\n",
        "    optim_state_dict_config=FullOptimStateDictConfig(offload_to_cpu=True, rank0_only=False),\n",
        ")\n",
        "\n",
        "accelerator = Accelerator(fsdp_plugin=fsdp_plugin)"
      ]
    },
    {
      "cell_type": "code",
      "execution_count": 12,
      "metadata": {
        "id": "dipMfTbgPvoM"
      },
      "outputs": [],
      "source": [
        "def print_trainable_parameters(model):\n",
        "    \"\"\"\n",
        "    Prints the number of trainable parameters in the model.\n",
        "    \"\"\"\n",
        "    trainable_params = 0\n",
        "    all_param = 0\n",
        "    for _, param in model.named_parameters():\n",
        "        all_param += param.numel()\n",
        "        if param.requires_grad:\n",
        "            trainable_params += param.numel()\n",
        "    print(\n",
        "        f\"trainable params: {trainable_params} || all params: {all_param} || trainable%: {100 * trainable_params / all_param:.2f}\"\n",
        "    )"
      ]
    },
    {
      "cell_type": "code",
      "execution_count": 13,
      "metadata": {
        "id": "uamQX0JVvoGF",
        "outputId": "065a007d-de50-4cb7-fe0f-df1f3d0b81be",
        "colab": {
          "base_uri": "https://localhost:8080/"
        }
      },
      "outputs": [
        {
          "output_type": "stream",
          "name": "stdout",
          "text": [
            "trainable params: 257739897 || all params: 1516768377 || trainable%: 16.99\n",
            "PhiForCausalLM(\n",
            "  (model): PhiModel(\n",
            "    (embed_tokens): Embedding(50297, 2560)\n",
            "    (embed_dropout): Dropout(p=0.0, inplace=False)\n",
            "    (layers): ModuleList(\n",
            "      (0-31): 32 x PhiDecoderLayer(\n",
            "        (self_attn): PhiFlashAttention2(\n",
            "          (q_proj): Linear4bit(in_features=2560, out_features=2560, bias=True)\n",
            "          (k_proj): Linear4bit(in_features=2560, out_features=2560, bias=True)\n",
            "          (v_proj): Linear4bit(in_features=2560, out_features=2560, bias=True)\n",
            "          (dense): Linear4bit(in_features=2560, out_features=2560, bias=True)\n",
            "          (rotary_emb): PhiRotaryEmbedding()\n",
            "        )\n",
            "        (mlp): PhiMLP(\n",
            "          (activation_fn): NewGELUActivation()\n",
            "          (fc1): Linear4bit(in_features=2560, out_features=10240, bias=True)\n",
            "          (fc2): Linear4bit(in_features=10240, out_features=2560, bias=True)\n",
            "        )\n",
            "        (input_layernorm): LayerNorm((2560,), eps=1e-05, elementwise_affine=True)\n",
            "        (resid_dropout): Dropout(p=0.1, inplace=False)\n",
            "      )\n",
            "    )\n",
            "    (final_layernorm): LayerNorm((2560,), eps=1e-05, elementwise_affine=True)\n",
            "    (rotary_emb): PhiRotaryEmbedding()\n",
            "  )\n",
            "  (lm_head): Linear(in_features=2560, out_features=50297, bias=True)\n",
            ")\n"
          ]
        }
      ],
      "source": [
        "if verbose:\n",
        "    print_trainable_parameters(model)\n",
        "\n",
        "#gradient checkpointing to save memory\n",
        "model.gradient_checkpointing_enable()\n",
        "\n",
        "# Freeze base model layers and cast layernorm in fp32\n",
        "model = prepare_model_for_kbit_training(model, use_gradient_checkpointing=True)\n",
        "if verbose:\n",
        "    print(model)"
      ]
    },
    {
      "cell_type": "code",
      "execution_count": 14,
      "metadata": {
        "id": "3PuVk7YBwxY9",
        "outputId": "5ab07228-3e88-4050-efae-858f6e538afd",
        "colab": {
          "base_uri": "https://localhost:8080/"
        }
      },
      "outputs": [
        {
          "output_type": "stream",
          "name": "stdout",
          "text": [
            "trainable params: 23592960 || all params: 1540361337 || trainable%: 1.53\n"
          ]
        }
      ],
      "source": [
        "config = LoraConfig(\n",
        "    r=16,\n",
        "    lora_alpha=32,\n",
        "    target_modules=[\n",
        "    'q_proj',\n",
        "    'k_proj',\n",
        "    'v_proj',\n",
        "    'dense',\n",
        "    'fc1',\n",
        "    'fc2',\n",
        "    ], #print(model) will show the modules to use\n",
        "    bias=\"none\",\n",
        "    lora_dropout=0.05,\n",
        "    task_type=\"CAUSAL_LM\",\n",
        ")\n",
        "\n",
        "lora_model = get_peft_model(model, config)\n",
        "if verbose:\n",
        "    print_trainable_parameters(lora_model)\n",
        "\n",
        "lora_model = accelerator.prepare_model(lora_model)"
      ]
    },
    {
      "cell_type": "code",
      "execution_count": 15,
      "metadata": {
        "id": "m2T1Q6Zz9k3H"
      },
      "outputs": [],
      "source": [
        "training_args = TrainingArguments(\n",
        "    output_dir='/content/drive/MyDrive/results_full',  # Directory where the model checkpoints and outputs will be saved\n",
        "    report_to='none',\n",
        "    overwrite_output_dir=True, # Overwrite the content of the output directory\n",
        "    per_device_train_batch_size=8,  # Batch size for training\n",
        "    per_device_eval_batch_size=8,  # Batch size for evaluation\n",
        "    gradient_accumulation_steps=5, # number of steps before optimizing\n",
        "    gradient_checkpointing=True,   # Enable gradient checkpointing\n",
        "    gradient_checkpointing_kwargs={\"use_reentrant\": False},\n",
        "    warmup_steps=50,  # Number of warmup steps\n",
        "    num_train_epochs=1,  # Number of training epochs\n",
        "    learning_rate=5e-5,  # Learning rate\n",
        "    weight_decay=0.01,  # Weight decay\n",
        "    optim=\"paged_adamw_8bit\", #Keep the optimizer state and quantize it\n",
        "    fp16=True, #Use mixed precision training\n",
        "    #For logging and saving\n",
        "    logging_dir='/content/drive/MyDrive/logs',  # Directory for saving logs\n",
        "    logging_strategy=\"steps\",\n",
        "    logging_steps=50,\n",
        "    save_strategy=\"steps\",\n",
        "    save_steps=50,\n",
        "    save_total_limit=2,  # Limit the total number of checkpoints\n",
        "    eval_strategy=\"steps\",\n",
        "    eval_steps=50,\n",
        "    load_best_model_at_end=True, # Load the best model at the end of training\n",
        ")\n",
        "\n",
        "trainer = Trainer(\n",
        "    model=lora_model,\n",
        "    train_dataset=tokenized_dataset_train,\n",
        "    eval_dataset=tokenized_dataset_val,\n",
        "    args=training_args,\n",
        ")\n"
      ]
    },
    {
      "cell_type": "code",
      "source": [
        "#Disable cache to prevent warning, reenable for inference\n",
        "model.config.use_cache = False\n",
        "\n",
        "start_time = time.time()\n",
        "tracker = EmissionsTracker(log_level=\"error\")  # Suppress most logs\n",
        "tracker.start()  # Start tracking CO2 emissions\n",
        "\n",
        "trainer.train()\n",
        "end_time = time.time()\n",
        "\n",
        "training_time = end_time - start_time\n",
        "\n",
        "print(f\"Training completed in {training_time} seconds.\")\n"
      ],
      "metadata": {
        "id": "EX7rwbm922Z3",
        "outputId": "1248af1c-55bb-4a54-daf6-eafb9bbce2ef",
        "colab": {
          "base_uri": "https://localhost:8080/",
          "height": 131
        }
      },
      "execution_count": 16,
      "outputs": [
        {
          "output_type": "stream",
          "name": "stderr",
          "text": [
            "The input hidden states seems to be silently casted in float32, this might be related to the fact you have upcasted embedding or layer norm layers in float32. We will cast back the input in torch.float16.\n"
          ]
        },
        {
          "output_type": "display_data",
          "data": {
            "text/plain": [
              "<IPython.core.display.HTML object>"
            ],
            "text/html": [
              "\n",
              "    <div>\n",
              "      \n",
              "      <progress value='33' max='33' style='width:300px; height:20px; vertical-align: middle;'></progress>\n",
              "      [33/33 12:13, Epoch 0/1]\n",
              "    </div>\n",
              "    <table border=\"1\" class=\"dataframe\">\n",
              "  <thead>\n",
              " <tr style=\"text-align: left;\">\n",
              "      <th>Step</th>\n",
              "      <th>Training Loss</th>\n",
              "      <th>Validation Loss</th>\n",
              "    </tr>\n",
              "  </thead>\n",
              "  <tbody>\n",
              "  </tbody>\n",
              "</table><p>"
            ]
          },
          "metadata": {}
        },
        {
          "output_type": "stream",
          "name": "stdout",
          "text": [
            "Training completed in 758.272176027298 seconds.\n"
          ]
        }
      ]
    },
    {
      "cell_type": "code",
      "source": [
        "#Save model to hub to ensure we save our work.\n",
        "lora_model.push_to_hub(\n",
        "    finetuned_model,\n",
        "    use_auth_token=True,\n",
        "    commit_message=commit_message,\n",
        "    private=True\n",
        ")\n",
        "\n",
        "tokenizer.push_to_hub(\n",
        "    finetuned_model,\n",
        "    use_auth_token=True,\n",
        "    commit_message=commit_message,\n",
        "    private=True\n",
        ")"
      ],
      "metadata": {
        "id": "DmTQetP02498",
        "outputId": "81432e3a-4f80-4b27-c380-05cd4a69719a",
        "colab": {
          "base_uri": "https://localhost:8080/",
          "height": 226,
          "referenced_widgets": [
            "c4474d2020cd404787ddd9d651de4e0b",
            "01946b02defb48a5924157ead52d1dfe",
            "f99d11c694a24870bde6e35a712a3bbb",
            "21fc4464960b402f948294c16e4023df",
            "72be749139624da59adba473ef1b9041",
            "9a02d4fd61d04e798acac4367e929194",
            "c1e0d1eefea34148acbe6f9e370bd3b2",
            "039bc013fbea4715a029a27a46262a63",
            "f4df62a96bb945f6bc73b10d58a1b02e",
            "940c3034428a41bfb75c30fa54fbe17d",
            "fb4df9b75c5849c4967844b935c0ca34",
            "b2b140635c714b478190e0af7bd8ead0",
            "42e2eac01f3245f6b8036cc4c490421c",
            "f7f5a1b4405842a6b32972bbdc7dcab7",
            "4cdf6ad50f10461dbe22e22daa2c2db8",
            "6a4cc18ddf23439fbba87260bbebad10",
            "6df5f4bca82242bfacf219fdfa6ab326",
            "9df776e2d7fa4964a5096f6da1de4570",
            "4fa97fb0254a4b64aeefe3b5891e0bd4",
            "e4b55bd7f4a34a718d7f065a67254e2d",
            "043c182dbbad41dea486d67dc9c099b6",
            "6c613d71262147768f9b4bbdbe6968f0"
          ]
        }
      },
      "execution_count": null,
      "outputs": [
        {
          "output_type": "stream",
          "name": "stderr",
          "text": [
            "/usr/local/lib/python3.10/dist-packages/transformers/utils/hub.py:894: FutureWarning: The `use_auth_token` argument is deprecated and will be removed in v5 of Transformers. Please use `token` instead.\n",
            "  warnings.warn(\n"
          ]
        },
        {
          "output_type": "display_data",
          "data": {
            "text/plain": [
              "adapter_model.safetensors:   0%|          | 0.00/94.4M [00:00<?, ?B/s]"
            ],
            "application/vnd.jupyter.widget-view+json": {
              "version_major": 2,
              "version_minor": 0,
              "model_id": "c4474d2020cd404787ddd9d651de4e0b"
            }
          },
          "metadata": {}
        },
        {
          "output_type": "display_data",
          "data": {
            "text/plain": [
              "README.md:   0%|          | 0.00/5.17k [00:00<?, ?B/s]"
            ],
            "application/vnd.jupyter.widget-view+json": {
              "version_major": 2,
              "version_minor": 0,
              "model_id": "b2b140635c714b478190e0af7bd8ead0"
            }
          },
          "metadata": {}
        },
        {
          "output_type": "execute_result",
          "data": {
            "text/plain": [
              "CommitInfo(commit_url='https://huggingface.co/ekrombouts/zuster_fietje_peft3/commit/174262e077ad2ed5273cda441fcddb803b2ea066', commit_message='full finetuned on Olympia_SAMPC_dataset for 2 epochs, Gardenia_instruct_dataset for 3 epochs, now PEFT finetuned on Gardenia_Careplan_dataset for 1 epochs', commit_description='', oid='174262e077ad2ed5273cda441fcddb803b2ea066', pr_url=None, repo_url=RepoUrl('https://huggingface.co/ekrombouts/zuster_fietje_peft3', endpoint='https://huggingface.co', repo_type='model', repo_id='ekrombouts/zuster_fietje_peft3'), pr_revision=None, pr_num=None)"
            ],
            "application/vnd.google.colaboratory.intrinsic+json": {
              "type": "string"
            }
          },
          "metadata": {},
          "execution_count": 17
        }
      ]
    },
    {
      "cell_type": "code",
      "source": [
        "emissions: float = tracker.stop()  # Stop tracking CO2 emissions and get the total emissions\n",
        "print(f\"Total emissions: {emissions} kg\")\n",
        ""
      ],
      "metadata": {
        "id": "puaTxhPxcWNg"
      },
      "execution_count": null,
      "outputs": []
    },
    {
      "cell_type": "code",
      "source": [
        "#Terminate the session so we do not incur cost\n",
        "runtime.unassign()"
      ],
      "metadata": {
        "id": "5rGe0ZEb27kS"
      },
      "execution_count": null,
      "outputs": []
    },
    {
      "cell_type": "code",
      "source": [],
      "metadata": {
        "id": "12gL2SEJ3AVQ"
      },
      "execution_count": null,
      "outputs": []
    }
  ],
  "metadata": {
    "accelerator": "GPU",
    "colab": {
      "gpuType": "A100",
      "machine_shape": "hm",
      "provenance": [],
      "include_colab_link": true
    },
    "kernelspec": {
      "display_name": "Python 3",
      "name": "python3"
    },
    "language_info": {
      "name": "python"
    },
    "widgets": {
      "application/vnd.jupyter.widget-state+json": {
        "e81ad492f69f4370a3f8affbbef3727c": {
          "model_module": "@jupyter-widgets/controls",
          "model_name": "HBoxModel",
          "model_module_version": "1.5.0",
          "state": {
            "_dom_classes": [],
            "_model_module": "@jupyter-widgets/controls",
            "_model_module_version": "1.5.0",
            "_model_name": "HBoxModel",
            "_view_count": null,
            "_view_module": "@jupyter-widgets/controls",
            "_view_module_version": "1.5.0",
            "_view_name": "HBoxView",
            "box_style": "",
            "children": [
              "IPY_MODEL_6423dae1257c4dff9e75b9194279cdf2",
              "IPY_MODEL_d4912bd716a94f51898a3cbcd0e63cc6",
              "IPY_MODEL_18a709d2b67d47dbb1dfa9f9d23bc6b5"
            ],
            "layout": "IPY_MODEL_18fab91d29d94e638311d1876736d478"
          }
        },
        "6423dae1257c4dff9e75b9194279cdf2": {
          "model_module": "@jupyter-widgets/controls",
          "model_name": "HTMLModel",
          "model_module_version": "1.5.0",
          "state": {
            "_dom_classes": [],
            "_model_module": "@jupyter-widgets/controls",
            "_model_module_version": "1.5.0",
            "_model_name": "HTMLModel",
            "_view_count": null,
            "_view_module": "@jupyter-widgets/controls",
            "_view_module_version": "1.5.0",
            "_view_name": "HTMLView",
            "description": "",
            "description_tooltip": null,
            "layout": "IPY_MODEL_8a3b2c10043b45f1857b29e33e06bdb6",
            "placeholder": "​",
            "style": "IPY_MODEL_fe99924bd31f45c088ae9620a0221a58",
            "value": "Loading checkpoint shards: 100%"
          }
        },
        "d4912bd716a94f51898a3cbcd0e63cc6": {
          "model_module": "@jupyter-widgets/controls",
          "model_name": "FloatProgressModel",
          "model_module_version": "1.5.0",
          "state": {
            "_dom_classes": [],
            "_model_module": "@jupyter-widgets/controls",
            "_model_module_version": "1.5.0",
            "_model_name": "FloatProgressModel",
            "_view_count": null,
            "_view_module": "@jupyter-widgets/controls",
            "_view_module_version": "1.5.0",
            "_view_name": "ProgressView",
            "bar_style": "success",
            "description": "",
            "description_tooltip": null,
            "layout": "IPY_MODEL_b8203fba14464c75ac548238a7203557",
            "max": 2,
            "min": 0,
            "orientation": "horizontal",
            "style": "IPY_MODEL_641fd54dd11c493eb276d81f4f8525ef",
            "value": 2
          }
        },
        "18a709d2b67d47dbb1dfa9f9d23bc6b5": {
          "model_module": "@jupyter-widgets/controls",
          "model_name": "HTMLModel",
          "model_module_version": "1.5.0",
          "state": {
            "_dom_classes": [],
            "_model_module": "@jupyter-widgets/controls",
            "_model_module_version": "1.5.0",
            "_model_name": "HTMLModel",
            "_view_count": null,
            "_view_module": "@jupyter-widgets/controls",
            "_view_module_version": "1.5.0",
            "_view_name": "HTMLView",
            "description": "",
            "description_tooltip": null,
            "layout": "IPY_MODEL_b4a9a684c40149f3ae574686d12aae90",
            "placeholder": "​",
            "style": "IPY_MODEL_e19b3d09213b49c8b9242c09379a0c91",
            "value": " 2/2 [00:04&lt;00:00,  1.86s/it]"
          }
        },
        "18fab91d29d94e638311d1876736d478": {
          "model_module": "@jupyter-widgets/base",
          "model_name": "LayoutModel",
          "model_module_version": "1.2.0",
          "state": {
            "_model_module": "@jupyter-widgets/base",
            "_model_module_version": "1.2.0",
            "_model_name": "LayoutModel",
            "_view_count": null,
            "_view_module": "@jupyter-widgets/base",
            "_view_module_version": "1.2.0",
            "_view_name": "LayoutView",
            "align_content": null,
            "align_items": null,
            "align_self": null,
            "border": null,
            "bottom": null,
            "display": null,
            "flex": null,
            "flex_flow": null,
            "grid_area": null,
            "grid_auto_columns": null,
            "grid_auto_flow": null,
            "grid_auto_rows": null,
            "grid_column": null,
            "grid_gap": null,
            "grid_row": null,
            "grid_template_areas": null,
            "grid_template_columns": null,
            "grid_template_rows": null,
            "height": null,
            "justify_content": null,
            "justify_items": null,
            "left": null,
            "margin": null,
            "max_height": null,
            "max_width": null,
            "min_height": null,
            "min_width": null,
            "object_fit": null,
            "object_position": null,
            "order": null,
            "overflow": null,
            "overflow_x": null,
            "overflow_y": null,
            "padding": null,
            "right": null,
            "top": null,
            "visibility": null,
            "width": null
          }
        },
        "8a3b2c10043b45f1857b29e33e06bdb6": {
          "model_module": "@jupyter-widgets/base",
          "model_name": "LayoutModel",
          "model_module_version": "1.2.0",
          "state": {
            "_model_module": "@jupyter-widgets/base",
            "_model_module_version": "1.2.0",
            "_model_name": "LayoutModel",
            "_view_count": null,
            "_view_module": "@jupyter-widgets/base",
            "_view_module_version": "1.2.0",
            "_view_name": "LayoutView",
            "align_content": null,
            "align_items": null,
            "align_self": null,
            "border": null,
            "bottom": null,
            "display": null,
            "flex": null,
            "flex_flow": null,
            "grid_area": null,
            "grid_auto_columns": null,
            "grid_auto_flow": null,
            "grid_auto_rows": null,
            "grid_column": null,
            "grid_gap": null,
            "grid_row": null,
            "grid_template_areas": null,
            "grid_template_columns": null,
            "grid_template_rows": null,
            "height": null,
            "justify_content": null,
            "justify_items": null,
            "left": null,
            "margin": null,
            "max_height": null,
            "max_width": null,
            "min_height": null,
            "min_width": null,
            "object_fit": null,
            "object_position": null,
            "order": null,
            "overflow": null,
            "overflow_x": null,
            "overflow_y": null,
            "padding": null,
            "right": null,
            "top": null,
            "visibility": null,
            "width": null
          }
        },
        "fe99924bd31f45c088ae9620a0221a58": {
          "model_module": "@jupyter-widgets/controls",
          "model_name": "DescriptionStyleModel",
          "model_module_version": "1.5.0",
          "state": {
            "_model_module": "@jupyter-widgets/controls",
            "_model_module_version": "1.5.0",
            "_model_name": "DescriptionStyleModel",
            "_view_count": null,
            "_view_module": "@jupyter-widgets/base",
            "_view_module_version": "1.2.0",
            "_view_name": "StyleView",
            "description_width": ""
          }
        },
        "b8203fba14464c75ac548238a7203557": {
          "model_module": "@jupyter-widgets/base",
          "model_name": "LayoutModel",
          "model_module_version": "1.2.0",
          "state": {
            "_model_module": "@jupyter-widgets/base",
            "_model_module_version": "1.2.0",
            "_model_name": "LayoutModel",
            "_view_count": null,
            "_view_module": "@jupyter-widgets/base",
            "_view_module_version": "1.2.0",
            "_view_name": "LayoutView",
            "align_content": null,
            "align_items": null,
            "align_self": null,
            "border": null,
            "bottom": null,
            "display": null,
            "flex": null,
            "flex_flow": null,
            "grid_area": null,
            "grid_auto_columns": null,
            "grid_auto_flow": null,
            "grid_auto_rows": null,
            "grid_column": null,
            "grid_gap": null,
            "grid_row": null,
            "grid_template_areas": null,
            "grid_template_columns": null,
            "grid_template_rows": null,
            "height": null,
            "justify_content": null,
            "justify_items": null,
            "left": null,
            "margin": null,
            "max_height": null,
            "max_width": null,
            "min_height": null,
            "min_width": null,
            "object_fit": null,
            "object_position": null,
            "order": null,
            "overflow": null,
            "overflow_x": null,
            "overflow_y": null,
            "padding": null,
            "right": null,
            "top": null,
            "visibility": null,
            "width": null
          }
        },
        "641fd54dd11c493eb276d81f4f8525ef": {
          "model_module": "@jupyter-widgets/controls",
          "model_name": "ProgressStyleModel",
          "model_module_version": "1.5.0",
          "state": {
            "_model_module": "@jupyter-widgets/controls",
            "_model_module_version": "1.5.0",
            "_model_name": "ProgressStyleModel",
            "_view_count": null,
            "_view_module": "@jupyter-widgets/base",
            "_view_module_version": "1.2.0",
            "_view_name": "StyleView",
            "bar_color": null,
            "description_width": ""
          }
        },
        "b4a9a684c40149f3ae574686d12aae90": {
          "model_module": "@jupyter-widgets/base",
          "model_name": "LayoutModel",
          "model_module_version": "1.2.0",
          "state": {
            "_model_module": "@jupyter-widgets/base",
            "_model_module_version": "1.2.0",
            "_model_name": "LayoutModel",
            "_view_count": null,
            "_view_module": "@jupyter-widgets/base",
            "_view_module_version": "1.2.0",
            "_view_name": "LayoutView",
            "align_content": null,
            "align_items": null,
            "align_self": null,
            "border": null,
            "bottom": null,
            "display": null,
            "flex": null,
            "flex_flow": null,
            "grid_area": null,
            "grid_auto_columns": null,
            "grid_auto_flow": null,
            "grid_auto_rows": null,
            "grid_column": null,
            "grid_gap": null,
            "grid_row": null,
            "grid_template_areas": null,
            "grid_template_columns": null,
            "grid_template_rows": null,
            "height": null,
            "justify_content": null,
            "justify_items": null,
            "left": null,
            "margin": null,
            "max_height": null,
            "max_width": null,
            "min_height": null,
            "min_width": null,
            "object_fit": null,
            "object_position": null,
            "order": null,
            "overflow": null,
            "overflow_x": null,
            "overflow_y": null,
            "padding": null,
            "right": null,
            "top": null,
            "visibility": null,
            "width": null
          }
        },
        "e19b3d09213b49c8b9242c09379a0c91": {
          "model_module": "@jupyter-widgets/controls",
          "model_name": "DescriptionStyleModel",
          "model_module_version": "1.5.0",
          "state": {
            "_model_module": "@jupyter-widgets/controls",
            "_model_module_version": "1.5.0",
            "_model_name": "DescriptionStyleModel",
            "_view_count": null,
            "_view_module": "@jupyter-widgets/base",
            "_view_module_version": "1.2.0",
            "_view_name": "StyleView",
            "description_width": ""
          }
        },
        "2f4a5fa822ab4796986cf7b0036e48b5": {
          "model_module": "@jupyter-widgets/controls",
          "model_name": "HBoxModel",
          "model_module_version": "1.5.0",
          "state": {
            "_dom_classes": [],
            "_model_module": "@jupyter-widgets/controls",
            "_model_module_version": "1.5.0",
            "_model_name": "HBoxModel",
            "_view_count": null,
            "_view_module": "@jupyter-widgets/controls",
            "_view_module_version": "1.5.0",
            "_view_name": "HBoxView",
            "box_style": "",
            "children": [
              "IPY_MODEL_3dfcf85b7e8f4cbca407c5e16db16666",
              "IPY_MODEL_06b0ca279e394cce989a733bd269020d",
              "IPY_MODEL_710d226e5124482aa99e7b62263e75ea"
            ],
            "layout": "IPY_MODEL_9e2a81742e1e4a02968061f738a17b6f"
          }
        },
        "3dfcf85b7e8f4cbca407c5e16db16666": {
          "model_module": "@jupyter-widgets/controls",
          "model_name": "HTMLModel",
          "model_module_version": "1.5.0",
          "state": {
            "_dom_classes": [],
            "_model_module": "@jupyter-widgets/controls",
            "_model_module_version": "1.5.0",
            "_model_name": "HTMLModel",
            "_view_count": null,
            "_view_module": "@jupyter-widgets/controls",
            "_view_module_version": "1.5.0",
            "_view_name": "HTMLView",
            "description": "",
            "description_tooltip": null,
            "layout": "IPY_MODEL_60cdf15e6171446eb0407effbda9526a",
            "placeholder": "​",
            "style": "IPY_MODEL_3f64e05c785745398d07b34fe912e306",
            "value": "Map: 100%"
          }
        },
        "06b0ca279e394cce989a733bd269020d": {
          "model_module": "@jupyter-widgets/controls",
          "model_name": "FloatProgressModel",
          "model_module_version": "1.5.0",
          "state": {
            "_dom_classes": [],
            "_model_module": "@jupyter-widgets/controls",
            "_model_module_version": "1.5.0",
            "_model_name": "FloatProgressModel",
            "_view_count": null,
            "_view_module": "@jupyter-widgets/controls",
            "_view_module_version": "1.5.0",
            "_view_name": "ProgressView",
            "bar_style": "success",
            "description": "",
            "description_tooltip": null,
            "layout": "IPY_MODEL_1dad83f038544ee5a4f207f743aa7edf",
            "max": 168,
            "min": 0,
            "orientation": "horizontal",
            "style": "IPY_MODEL_ce3c1311a3fa40eda44be2c5a6aafcbc",
            "value": 168
          }
        },
        "710d226e5124482aa99e7b62263e75ea": {
          "model_module": "@jupyter-widgets/controls",
          "model_name": "HTMLModel",
          "model_module_version": "1.5.0",
          "state": {
            "_dom_classes": [],
            "_model_module": "@jupyter-widgets/controls",
            "_model_module_version": "1.5.0",
            "_model_name": "HTMLModel",
            "_view_count": null,
            "_view_module": "@jupyter-widgets/controls",
            "_view_module_version": "1.5.0",
            "_view_name": "HTMLView",
            "description": "",
            "description_tooltip": null,
            "layout": "IPY_MODEL_e3760b4a0ad54a1abd58f34a73a9cf41",
            "placeholder": "​",
            "style": "IPY_MODEL_3a833cd60cfc45c4ab2b839e0f8937c7",
            "value": " 168/168 [00:00&lt;00:00, 216.75 examples/s]"
          }
        },
        "9e2a81742e1e4a02968061f738a17b6f": {
          "model_module": "@jupyter-widgets/base",
          "model_name": "LayoutModel",
          "model_module_version": "1.2.0",
          "state": {
            "_model_module": "@jupyter-widgets/base",
            "_model_module_version": "1.2.0",
            "_model_name": "LayoutModel",
            "_view_count": null,
            "_view_module": "@jupyter-widgets/base",
            "_view_module_version": "1.2.0",
            "_view_name": "LayoutView",
            "align_content": null,
            "align_items": null,
            "align_self": null,
            "border": null,
            "bottom": null,
            "display": null,
            "flex": null,
            "flex_flow": null,
            "grid_area": null,
            "grid_auto_columns": null,
            "grid_auto_flow": null,
            "grid_auto_rows": null,
            "grid_column": null,
            "grid_gap": null,
            "grid_row": null,
            "grid_template_areas": null,
            "grid_template_columns": null,
            "grid_template_rows": null,
            "height": null,
            "justify_content": null,
            "justify_items": null,
            "left": null,
            "margin": null,
            "max_height": null,
            "max_width": null,
            "min_height": null,
            "min_width": null,
            "object_fit": null,
            "object_position": null,
            "order": null,
            "overflow": null,
            "overflow_x": null,
            "overflow_y": null,
            "padding": null,
            "right": null,
            "top": null,
            "visibility": null,
            "width": null
          }
        },
        "60cdf15e6171446eb0407effbda9526a": {
          "model_module": "@jupyter-widgets/base",
          "model_name": "LayoutModel",
          "model_module_version": "1.2.0",
          "state": {
            "_model_module": "@jupyter-widgets/base",
            "_model_module_version": "1.2.0",
            "_model_name": "LayoutModel",
            "_view_count": null,
            "_view_module": "@jupyter-widgets/base",
            "_view_module_version": "1.2.0",
            "_view_name": "LayoutView",
            "align_content": null,
            "align_items": null,
            "align_self": null,
            "border": null,
            "bottom": null,
            "display": null,
            "flex": null,
            "flex_flow": null,
            "grid_area": null,
            "grid_auto_columns": null,
            "grid_auto_flow": null,
            "grid_auto_rows": null,
            "grid_column": null,
            "grid_gap": null,
            "grid_row": null,
            "grid_template_areas": null,
            "grid_template_columns": null,
            "grid_template_rows": null,
            "height": null,
            "justify_content": null,
            "justify_items": null,
            "left": null,
            "margin": null,
            "max_height": null,
            "max_width": null,
            "min_height": null,
            "min_width": null,
            "object_fit": null,
            "object_position": null,
            "order": null,
            "overflow": null,
            "overflow_x": null,
            "overflow_y": null,
            "padding": null,
            "right": null,
            "top": null,
            "visibility": null,
            "width": null
          }
        },
        "3f64e05c785745398d07b34fe912e306": {
          "model_module": "@jupyter-widgets/controls",
          "model_name": "DescriptionStyleModel",
          "model_module_version": "1.5.0",
          "state": {
            "_model_module": "@jupyter-widgets/controls",
            "_model_module_version": "1.5.0",
            "_model_name": "DescriptionStyleModel",
            "_view_count": null,
            "_view_module": "@jupyter-widgets/base",
            "_view_module_version": "1.2.0",
            "_view_name": "StyleView",
            "description_width": ""
          }
        },
        "1dad83f038544ee5a4f207f743aa7edf": {
          "model_module": "@jupyter-widgets/base",
          "model_name": "LayoutModel",
          "model_module_version": "1.2.0",
          "state": {
            "_model_module": "@jupyter-widgets/base",
            "_model_module_version": "1.2.0",
            "_model_name": "LayoutModel",
            "_view_count": null,
            "_view_module": "@jupyter-widgets/base",
            "_view_module_version": "1.2.0",
            "_view_name": "LayoutView",
            "align_content": null,
            "align_items": null,
            "align_self": null,
            "border": null,
            "bottom": null,
            "display": null,
            "flex": null,
            "flex_flow": null,
            "grid_area": null,
            "grid_auto_columns": null,
            "grid_auto_flow": null,
            "grid_auto_rows": null,
            "grid_column": null,
            "grid_gap": null,
            "grid_row": null,
            "grid_template_areas": null,
            "grid_template_columns": null,
            "grid_template_rows": null,
            "height": null,
            "justify_content": null,
            "justify_items": null,
            "left": null,
            "margin": null,
            "max_height": null,
            "max_width": null,
            "min_height": null,
            "min_width": null,
            "object_fit": null,
            "object_position": null,
            "order": null,
            "overflow": null,
            "overflow_x": null,
            "overflow_y": null,
            "padding": null,
            "right": null,
            "top": null,
            "visibility": null,
            "width": null
          }
        },
        "ce3c1311a3fa40eda44be2c5a6aafcbc": {
          "model_module": "@jupyter-widgets/controls",
          "model_name": "ProgressStyleModel",
          "model_module_version": "1.5.0",
          "state": {
            "_model_module": "@jupyter-widgets/controls",
            "_model_module_version": "1.5.0",
            "_model_name": "ProgressStyleModel",
            "_view_count": null,
            "_view_module": "@jupyter-widgets/base",
            "_view_module_version": "1.2.0",
            "_view_name": "StyleView",
            "bar_color": null,
            "description_width": ""
          }
        },
        "e3760b4a0ad54a1abd58f34a73a9cf41": {
          "model_module": "@jupyter-widgets/base",
          "model_name": "LayoutModel",
          "model_module_version": "1.2.0",
          "state": {
            "_model_module": "@jupyter-widgets/base",
            "_model_module_version": "1.2.0",
            "_model_name": "LayoutModel",
            "_view_count": null,
            "_view_module": "@jupyter-widgets/base",
            "_view_module_version": "1.2.0",
            "_view_name": "LayoutView",
            "align_content": null,
            "align_items": null,
            "align_self": null,
            "border": null,
            "bottom": null,
            "display": null,
            "flex": null,
            "flex_flow": null,
            "grid_area": null,
            "grid_auto_columns": null,
            "grid_auto_flow": null,
            "grid_auto_rows": null,
            "grid_column": null,
            "grid_gap": null,
            "grid_row": null,
            "grid_template_areas": null,
            "grid_template_columns": null,
            "grid_template_rows": null,
            "height": null,
            "justify_content": null,
            "justify_items": null,
            "left": null,
            "margin": null,
            "max_height": null,
            "max_width": null,
            "min_height": null,
            "min_width": null,
            "object_fit": null,
            "object_position": null,
            "order": null,
            "overflow": null,
            "overflow_x": null,
            "overflow_y": null,
            "padding": null,
            "right": null,
            "top": null,
            "visibility": null,
            "width": null
          }
        },
        "3a833cd60cfc45c4ab2b839e0f8937c7": {
          "model_module": "@jupyter-widgets/controls",
          "model_name": "DescriptionStyleModel",
          "model_module_version": "1.5.0",
          "state": {
            "_model_module": "@jupyter-widgets/controls",
            "_model_module_version": "1.5.0",
            "_model_name": "DescriptionStyleModel",
            "_view_count": null,
            "_view_module": "@jupyter-widgets/base",
            "_view_module_version": "1.2.0",
            "_view_name": "StyleView",
            "description_width": ""
          }
        },
        "c4474d2020cd404787ddd9d651de4e0b": {
          "model_module": "@jupyter-widgets/controls",
          "model_name": "HBoxModel",
          "model_module_version": "1.5.0",
          "state": {
            "_dom_classes": [],
            "_model_module": "@jupyter-widgets/controls",
            "_model_module_version": "1.5.0",
            "_model_name": "HBoxModel",
            "_view_count": null,
            "_view_module": "@jupyter-widgets/controls",
            "_view_module_version": "1.5.0",
            "_view_name": "HBoxView",
            "box_style": "",
            "children": [
              "IPY_MODEL_01946b02defb48a5924157ead52d1dfe",
              "IPY_MODEL_f99d11c694a24870bde6e35a712a3bbb",
              "IPY_MODEL_21fc4464960b402f948294c16e4023df"
            ],
            "layout": "IPY_MODEL_72be749139624da59adba473ef1b9041"
          }
        },
        "01946b02defb48a5924157ead52d1dfe": {
          "model_module": "@jupyter-widgets/controls",
          "model_name": "HTMLModel",
          "model_module_version": "1.5.0",
          "state": {
            "_dom_classes": [],
            "_model_module": "@jupyter-widgets/controls",
            "_model_module_version": "1.5.0",
            "_model_name": "HTMLModel",
            "_view_count": null,
            "_view_module": "@jupyter-widgets/controls",
            "_view_module_version": "1.5.0",
            "_view_name": "HTMLView",
            "description": "",
            "description_tooltip": null,
            "layout": "IPY_MODEL_9a02d4fd61d04e798acac4367e929194",
            "placeholder": "​",
            "style": "IPY_MODEL_c1e0d1eefea34148acbe6f9e370bd3b2",
            "value": "adapter_model.safetensors: 100%"
          }
        },
        "f99d11c694a24870bde6e35a712a3bbb": {
          "model_module": "@jupyter-widgets/controls",
          "model_name": "FloatProgressModel",
          "model_module_version": "1.5.0",
          "state": {
            "_dom_classes": [],
            "_model_module": "@jupyter-widgets/controls",
            "_model_module_version": "1.5.0",
            "_model_name": "FloatProgressModel",
            "_view_count": null,
            "_view_module": "@jupyter-widgets/controls",
            "_view_module_version": "1.5.0",
            "_view_name": "ProgressView",
            "bar_style": "success",
            "description": "",
            "description_tooltip": null,
            "layout": "IPY_MODEL_039bc013fbea4715a029a27a46262a63",
            "max": 94422368,
            "min": 0,
            "orientation": "horizontal",
            "style": "IPY_MODEL_f4df62a96bb945f6bc73b10d58a1b02e",
            "value": 94422368
          }
        },
        "21fc4464960b402f948294c16e4023df": {
          "model_module": "@jupyter-widgets/controls",
          "model_name": "HTMLModel",
          "model_module_version": "1.5.0",
          "state": {
            "_dom_classes": [],
            "_model_module": "@jupyter-widgets/controls",
            "_model_module_version": "1.5.0",
            "_model_name": "HTMLModel",
            "_view_count": null,
            "_view_module": "@jupyter-widgets/controls",
            "_view_module_version": "1.5.0",
            "_view_name": "HTMLView",
            "description": "",
            "description_tooltip": null,
            "layout": "IPY_MODEL_940c3034428a41bfb75c30fa54fbe17d",
            "placeholder": "​",
            "style": "IPY_MODEL_fb4df9b75c5849c4967844b935c0ca34",
            "value": " 94.4M/94.4M [00:03&lt;00:00, 37.6MB/s]"
          }
        },
        "72be749139624da59adba473ef1b9041": {
          "model_module": "@jupyter-widgets/base",
          "model_name": "LayoutModel",
          "model_module_version": "1.2.0",
          "state": {
            "_model_module": "@jupyter-widgets/base",
            "_model_module_version": "1.2.0",
            "_model_name": "LayoutModel",
            "_view_count": null,
            "_view_module": "@jupyter-widgets/base",
            "_view_module_version": "1.2.0",
            "_view_name": "LayoutView",
            "align_content": null,
            "align_items": null,
            "align_self": null,
            "border": null,
            "bottom": null,
            "display": null,
            "flex": null,
            "flex_flow": null,
            "grid_area": null,
            "grid_auto_columns": null,
            "grid_auto_flow": null,
            "grid_auto_rows": null,
            "grid_column": null,
            "grid_gap": null,
            "grid_row": null,
            "grid_template_areas": null,
            "grid_template_columns": null,
            "grid_template_rows": null,
            "height": null,
            "justify_content": null,
            "justify_items": null,
            "left": null,
            "margin": null,
            "max_height": null,
            "max_width": null,
            "min_height": null,
            "min_width": null,
            "object_fit": null,
            "object_position": null,
            "order": null,
            "overflow": null,
            "overflow_x": null,
            "overflow_y": null,
            "padding": null,
            "right": null,
            "top": null,
            "visibility": null,
            "width": null
          }
        },
        "9a02d4fd61d04e798acac4367e929194": {
          "model_module": "@jupyter-widgets/base",
          "model_name": "LayoutModel",
          "model_module_version": "1.2.0",
          "state": {
            "_model_module": "@jupyter-widgets/base",
            "_model_module_version": "1.2.0",
            "_model_name": "LayoutModel",
            "_view_count": null,
            "_view_module": "@jupyter-widgets/base",
            "_view_module_version": "1.2.0",
            "_view_name": "LayoutView",
            "align_content": null,
            "align_items": null,
            "align_self": null,
            "border": null,
            "bottom": null,
            "display": null,
            "flex": null,
            "flex_flow": null,
            "grid_area": null,
            "grid_auto_columns": null,
            "grid_auto_flow": null,
            "grid_auto_rows": null,
            "grid_column": null,
            "grid_gap": null,
            "grid_row": null,
            "grid_template_areas": null,
            "grid_template_columns": null,
            "grid_template_rows": null,
            "height": null,
            "justify_content": null,
            "justify_items": null,
            "left": null,
            "margin": null,
            "max_height": null,
            "max_width": null,
            "min_height": null,
            "min_width": null,
            "object_fit": null,
            "object_position": null,
            "order": null,
            "overflow": null,
            "overflow_x": null,
            "overflow_y": null,
            "padding": null,
            "right": null,
            "top": null,
            "visibility": null,
            "width": null
          }
        },
        "c1e0d1eefea34148acbe6f9e370bd3b2": {
          "model_module": "@jupyter-widgets/controls",
          "model_name": "DescriptionStyleModel",
          "model_module_version": "1.5.0",
          "state": {
            "_model_module": "@jupyter-widgets/controls",
            "_model_module_version": "1.5.0",
            "_model_name": "DescriptionStyleModel",
            "_view_count": null,
            "_view_module": "@jupyter-widgets/base",
            "_view_module_version": "1.2.0",
            "_view_name": "StyleView",
            "description_width": ""
          }
        },
        "039bc013fbea4715a029a27a46262a63": {
          "model_module": "@jupyter-widgets/base",
          "model_name": "LayoutModel",
          "model_module_version": "1.2.0",
          "state": {
            "_model_module": "@jupyter-widgets/base",
            "_model_module_version": "1.2.0",
            "_model_name": "LayoutModel",
            "_view_count": null,
            "_view_module": "@jupyter-widgets/base",
            "_view_module_version": "1.2.0",
            "_view_name": "LayoutView",
            "align_content": null,
            "align_items": null,
            "align_self": null,
            "border": null,
            "bottom": null,
            "display": null,
            "flex": null,
            "flex_flow": null,
            "grid_area": null,
            "grid_auto_columns": null,
            "grid_auto_flow": null,
            "grid_auto_rows": null,
            "grid_column": null,
            "grid_gap": null,
            "grid_row": null,
            "grid_template_areas": null,
            "grid_template_columns": null,
            "grid_template_rows": null,
            "height": null,
            "justify_content": null,
            "justify_items": null,
            "left": null,
            "margin": null,
            "max_height": null,
            "max_width": null,
            "min_height": null,
            "min_width": null,
            "object_fit": null,
            "object_position": null,
            "order": null,
            "overflow": null,
            "overflow_x": null,
            "overflow_y": null,
            "padding": null,
            "right": null,
            "top": null,
            "visibility": null,
            "width": null
          }
        },
        "f4df62a96bb945f6bc73b10d58a1b02e": {
          "model_module": "@jupyter-widgets/controls",
          "model_name": "ProgressStyleModel",
          "model_module_version": "1.5.0",
          "state": {
            "_model_module": "@jupyter-widgets/controls",
            "_model_module_version": "1.5.0",
            "_model_name": "ProgressStyleModel",
            "_view_count": null,
            "_view_module": "@jupyter-widgets/base",
            "_view_module_version": "1.2.0",
            "_view_name": "StyleView",
            "bar_color": null,
            "description_width": ""
          }
        },
        "940c3034428a41bfb75c30fa54fbe17d": {
          "model_module": "@jupyter-widgets/base",
          "model_name": "LayoutModel",
          "model_module_version": "1.2.0",
          "state": {
            "_model_module": "@jupyter-widgets/base",
            "_model_module_version": "1.2.0",
            "_model_name": "LayoutModel",
            "_view_count": null,
            "_view_module": "@jupyter-widgets/base",
            "_view_module_version": "1.2.0",
            "_view_name": "LayoutView",
            "align_content": null,
            "align_items": null,
            "align_self": null,
            "border": null,
            "bottom": null,
            "display": null,
            "flex": null,
            "flex_flow": null,
            "grid_area": null,
            "grid_auto_columns": null,
            "grid_auto_flow": null,
            "grid_auto_rows": null,
            "grid_column": null,
            "grid_gap": null,
            "grid_row": null,
            "grid_template_areas": null,
            "grid_template_columns": null,
            "grid_template_rows": null,
            "height": null,
            "justify_content": null,
            "justify_items": null,
            "left": null,
            "margin": null,
            "max_height": null,
            "max_width": null,
            "min_height": null,
            "min_width": null,
            "object_fit": null,
            "object_position": null,
            "order": null,
            "overflow": null,
            "overflow_x": null,
            "overflow_y": null,
            "padding": null,
            "right": null,
            "top": null,
            "visibility": null,
            "width": null
          }
        },
        "fb4df9b75c5849c4967844b935c0ca34": {
          "model_module": "@jupyter-widgets/controls",
          "model_name": "DescriptionStyleModel",
          "model_module_version": "1.5.0",
          "state": {
            "_model_module": "@jupyter-widgets/controls",
            "_model_module_version": "1.5.0",
            "_model_name": "DescriptionStyleModel",
            "_view_count": null,
            "_view_module": "@jupyter-widgets/base",
            "_view_module_version": "1.2.0",
            "_view_name": "StyleView",
            "description_width": ""
          }
        },
        "b2b140635c714b478190e0af7bd8ead0": {
          "model_module": "@jupyter-widgets/controls",
          "model_name": "HBoxModel",
          "model_module_version": "1.5.0",
          "state": {
            "_dom_classes": [],
            "_model_module": "@jupyter-widgets/controls",
            "_model_module_version": "1.5.0",
            "_model_name": "HBoxModel",
            "_view_count": null,
            "_view_module": "@jupyter-widgets/controls",
            "_view_module_version": "1.5.0",
            "_view_name": "HBoxView",
            "box_style": "",
            "children": [
              "IPY_MODEL_42e2eac01f3245f6b8036cc4c490421c",
              "IPY_MODEL_f7f5a1b4405842a6b32972bbdc7dcab7",
              "IPY_MODEL_4cdf6ad50f10461dbe22e22daa2c2db8"
            ],
            "layout": "IPY_MODEL_6a4cc18ddf23439fbba87260bbebad10"
          }
        },
        "42e2eac01f3245f6b8036cc4c490421c": {
          "model_module": "@jupyter-widgets/controls",
          "model_name": "HTMLModel",
          "model_module_version": "1.5.0",
          "state": {
            "_dom_classes": [],
            "_model_module": "@jupyter-widgets/controls",
            "_model_module_version": "1.5.0",
            "_model_name": "HTMLModel",
            "_view_count": null,
            "_view_module": "@jupyter-widgets/controls",
            "_view_module_version": "1.5.0",
            "_view_name": "HTMLView",
            "description": "",
            "description_tooltip": null,
            "layout": "IPY_MODEL_6df5f4bca82242bfacf219fdfa6ab326",
            "placeholder": "​",
            "style": "IPY_MODEL_9df776e2d7fa4964a5096f6da1de4570",
            "value": "README.md: 100%"
          }
        },
        "f7f5a1b4405842a6b32972bbdc7dcab7": {
          "model_module": "@jupyter-widgets/controls",
          "model_name": "FloatProgressModel",
          "model_module_version": "1.5.0",
          "state": {
            "_dom_classes": [],
            "_model_module": "@jupyter-widgets/controls",
            "_model_module_version": "1.5.0",
            "_model_name": "FloatProgressModel",
            "_view_count": null,
            "_view_module": "@jupyter-widgets/controls",
            "_view_module_version": "1.5.0",
            "_view_name": "ProgressView",
            "bar_style": "success",
            "description": "",
            "description_tooltip": null,
            "layout": "IPY_MODEL_4fa97fb0254a4b64aeefe3b5891e0bd4",
            "max": 5174,
            "min": 0,
            "orientation": "horizontal",
            "style": "IPY_MODEL_e4b55bd7f4a34a718d7f065a67254e2d",
            "value": 5174
          }
        },
        "4cdf6ad50f10461dbe22e22daa2c2db8": {
          "model_module": "@jupyter-widgets/controls",
          "model_name": "HTMLModel",
          "model_module_version": "1.5.0",
          "state": {
            "_dom_classes": [],
            "_model_module": "@jupyter-widgets/controls",
            "_model_module_version": "1.5.0",
            "_model_name": "HTMLModel",
            "_view_count": null,
            "_view_module": "@jupyter-widgets/controls",
            "_view_module_version": "1.5.0",
            "_view_name": "HTMLView",
            "description": "",
            "description_tooltip": null,
            "layout": "IPY_MODEL_043c182dbbad41dea486d67dc9c099b6",
            "placeholder": "​",
            "style": "IPY_MODEL_6c613d71262147768f9b4bbdbe6968f0",
            "value": " 5.17k/5.17k [00:00&lt;00:00, 396kB/s]"
          }
        },
        "6a4cc18ddf23439fbba87260bbebad10": {
          "model_module": "@jupyter-widgets/base",
          "model_name": "LayoutModel",
          "model_module_version": "1.2.0",
          "state": {
            "_model_module": "@jupyter-widgets/base",
            "_model_module_version": "1.2.0",
            "_model_name": "LayoutModel",
            "_view_count": null,
            "_view_module": "@jupyter-widgets/base",
            "_view_module_version": "1.2.0",
            "_view_name": "LayoutView",
            "align_content": null,
            "align_items": null,
            "align_self": null,
            "border": null,
            "bottom": null,
            "display": null,
            "flex": null,
            "flex_flow": null,
            "grid_area": null,
            "grid_auto_columns": null,
            "grid_auto_flow": null,
            "grid_auto_rows": null,
            "grid_column": null,
            "grid_gap": null,
            "grid_row": null,
            "grid_template_areas": null,
            "grid_template_columns": null,
            "grid_template_rows": null,
            "height": null,
            "justify_content": null,
            "justify_items": null,
            "left": null,
            "margin": null,
            "max_height": null,
            "max_width": null,
            "min_height": null,
            "min_width": null,
            "object_fit": null,
            "object_position": null,
            "order": null,
            "overflow": null,
            "overflow_x": null,
            "overflow_y": null,
            "padding": null,
            "right": null,
            "top": null,
            "visibility": null,
            "width": null
          }
        },
        "6df5f4bca82242bfacf219fdfa6ab326": {
          "model_module": "@jupyter-widgets/base",
          "model_name": "LayoutModel",
          "model_module_version": "1.2.0",
          "state": {
            "_model_module": "@jupyter-widgets/base",
            "_model_module_version": "1.2.0",
            "_model_name": "LayoutModel",
            "_view_count": null,
            "_view_module": "@jupyter-widgets/base",
            "_view_module_version": "1.2.0",
            "_view_name": "LayoutView",
            "align_content": null,
            "align_items": null,
            "align_self": null,
            "border": null,
            "bottom": null,
            "display": null,
            "flex": null,
            "flex_flow": null,
            "grid_area": null,
            "grid_auto_columns": null,
            "grid_auto_flow": null,
            "grid_auto_rows": null,
            "grid_column": null,
            "grid_gap": null,
            "grid_row": null,
            "grid_template_areas": null,
            "grid_template_columns": null,
            "grid_template_rows": null,
            "height": null,
            "justify_content": null,
            "justify_items": null,
            "left": null,
            "margin": null,
            "max_height": null,
            "max_width": null,
            "min_height": null,
            "min_width": null,
            "object_fit": null,
            "object_position": null,
            "order": null,
            "overflow": null,
            "overflow_x": null,
            "overflow_y": null,
            "padding": null,
            "right": null,
            "top": null,
            "visibility": null,
            "width": null
          }
        },
        "9df776e2d7fa4964a5096f6da1de4570": {
          "model_module": "@jupyter-widgets/controls",
          "model_name": "DescriptionStyleModel",
          "model_module_version": "1.5.0",
          "state": {
            "_model_module": "@jupyter-widgets/controls",
            "_model_module_version": "1.5.0",
            "_model_name": "DescriptionStyleModel",
            "_view_count": null,
            "_view_module": "@jupyter-widgets/base",
            "_view_module_version": "1.2.0",
            "_view_name": "StyleView",
            "description_width": ""
          }
        },
        "4fa97fb0254a4b64aeefe3b5891e0bd4": {
          "model_module": "@jupyter-widgets/base",
          "model_name": "LayoutModel",
          "model_module_version": "1.2.0",
          "state": {
            "_model_module": "@jupyter-widgets/base",
            "_model_module_version": "1.2.0",
            "_model_name": "LayoutModel",
            "_view_count": null,
            "_view_module": "@jupyter-widgets/base",
            "_view_module_version": "1.2.0",
            "_view_name": "LayoutView",
            "align_content": null,
            "align_items": null,
            "align_self": null,
            "border": null,
            "bottom": null,
            "display": null,
            "flex": null,
            "flex_flow": null,
            "grid_area": null,
            "grid_auto_columns": null,
            "grid_auto_flow": null,
            "grid_auto_rows": null,
            "grid_column": null,
            "grid_gap": null,
            "grid_row": null,
            "grid_template_areas": null,
            "grid_template_columns": null,
            "grid_template_rows": null,
            "height": null,
            "justify_content": null,
            "justify_items": null,
            "left": null,
            "margin": null,
            "max_height": null,
            "max_width": null,
            "min_height": null,
            "min_width": null,
            "object_fit": null,
            "object_position": null,
            "order": null,
            "overflow": null,
            "overflow_x": null,
            "overflow_y": null,
            "padding": null,
            "right": null,
            "top": null,
            "visibility": null,
            "width": null
          }
        },
        "e4b55bd7f4a34a718d7f065a67254e2d": {
          "model_module": "@jupyter-widgets/controls",
          "model_name": "ProgressStyleModel",
          "model_module_version": "1.5.0",
          "state": {
            "_model_module": "@jupyter-widgets/controls",
            "_model_module_version": "1.5.0",
            "_model_name": "ProgressStyleModel",
            "_view_count": null,
            "_view_module": "@jupyter-widgets/base",
            "_view_module_version": "1.2.0",
            "_view_name": "StyleView",
            "bar_color": null,
            "description_width": ""
          }
        },
        "043c182dbbad41dea486d67dc9c099b6": {
          "model_module": "@jupyter-widgets/base",
          "model_name": "LayoutModel",
          "model_module_version": "1.2.0",
          "state": {
            "_model_module": "@jupyter-widgets/base",
            "_model_module_version": "1.2.0",
            "_model_name": "LayoutModel",
            "_view_count": null,
            "_view_module": "@jupyter-widgets/base",
            "_view_module_version": "1.2.0",
            "_view_name": "LayoutView",
            "align_content": null,
            "align_items": null,
            "align_self": null,
            "border": null,
            "bottom": null,
            "display": null,
            "flex": null,
            "flex_flow": null,
            "grid_area": null,
            "grid_auto_columns": null,
            "grid_auto_flow": null,
            "grid_auto_rows": null,
            "grid_column": null,
            "grid_gap": null,
            "grid_row": null,
            "grid_template_areas": null,
            "grid_template_columns": null,
            "grid_template_rows": null,
            "height": null,
            "justify_content": null,
            "justify_items": null,
            "left": null,
            "margin": null,
            "max_height": null,
            "max_width": null,
            "min_height": null,
            "min_width": null,
            "object_fit": null,
            "object_position": null,
            "order": null,
            "overflow": null,
            "overflow_x": null,
            "overflow_y": null,
            "padding": null,
            "right": null,
            "top": null,
            "visibility": null,
            "width": null
          }
        },
        "6c613d71262147768f9b4bbdbe6968f0": {
          "model_module": "@jupyter-widgets/controls",
          "model_name": "DescriptionStyleModel",
          "model_module_version": "1.5.0",
          "state": {
            "_model_module": "@jupyter-widgets/controls",
            "_model_module_version": "1.5.0",
            "_model_name": "DescriptionStyleModel",
            "_view_count": null,
            "_view_module": "@jupyter-widgets/base",
            "_view_module_version": "1.2.0",
            "_view_name": "StyleView",
            "description_width": ""
          }
        }
      }
    }
  },
  "nbformat": 4,
  "nbformat_minor": 0
}