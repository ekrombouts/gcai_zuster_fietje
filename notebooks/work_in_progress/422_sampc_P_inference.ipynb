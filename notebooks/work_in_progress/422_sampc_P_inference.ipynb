{
  "cells": [
    {
      "cell_type": "markdown",
      "metadata": {
        "id": "view-in-github",
        "colab_type": "text"
      },
      "source": [
        "<a href=\"https://colab.research.google.com/github/ekrombouts/GenCareAI/blob/work_in_progress/scripts/work_in_progress/422_sampc_P_inference.ipynb\" target=\"_parent\"><img src=\"https://colab.research.google.com/assets/colab-badge.svg\" alt=\"Open In Colab\"/></a>"
      ]
    },
    {
      "cell_type": "code",
      "source": [
        "# Cell 1: Install necessary libraries\n",
        "!pip install -q transformers datasets"
      ],
      "metadata": {
        "id": "EToO0FCbOPcE"
      },
      "execution_count": null,
      "outputs": []
    },
    {
      "cell_type": "code",
      "source": [
        "# Cell 2: Import required libraries and mount Google Drive\n",
        "import torch\n",
        "from transformers import AutoModelForCausalLM, AutoTokenizer\n",
        "from datasets import load_dataset"
      ],
      "metadata": {
        "id": "FAAPAAhDOPRj"
      },
      "execution_count": null,
      "outputs": []
    },
    {
      "cell_type": "code",
      "source": [
        "# Cell 3: Load pre-trained fine-tuned model and tokenizer from Google Drive\n",
        "model_finetuned = \"ekrombouts/gcai_sampc_p_fietje\"  # Path to your fine-tuned model\n",
        "model = AutoModelForCausalLM.from_pretrained(model_finetuned, torch_dtype=torch.bfloat16, device_map='auto')\n",
        "tokenizer = AutoTokenizer.from_pretrained(model_finetuned)\n",
        "tokenizer.pad_token = tokenizer.eos_token  # Set pad token\n"
      ],
      "metadata": {
        "id": "orbb3oKWOPLZ"
      },
      "execution_count": null,
      "outputs": []
    },
    {
      "cell_type": "code",
      "source": [
        "# Cell 4: Load dataset and retrieve sample 6\n",
        "path_hf_sampc = \"ekrombouts/Galaxy_SAMPC\"\n",
        "dataset = load_dataset(path_hf_sampc)\n",
        "val_dataset = dataset['validation']\n",
        "sample = val_dataset[6]"
      ],
      "metadata": {
        "id": "5WHFpzUIOPGV"
      },
      "execution_count": null,
      "outputs": []
    },
    {
      "cell_type": "code",
      "source": [
        "# Cell 5: Prepare the prompt with truncated notes from sample 6\n",
        "notes = sample['notes']  # Or use 'truncated_notes' if you already truncated it\n",
        "prompt = f'''Lees de volgende rapportages en beschrijf de cognitie en gedragsproblemen van de cliënt.\n",
        "\n",
        "Rapportages:\n",
        "{notes}\n",
        "\n",
        "Geef de output als lijst van strings, voorbeeld: [\"aap\", \"noot\", \"mies\"]\n",
        "\n",
        "Beschrijf cognitie/gedragsproblemen:\n",
        "'''\n"
      ],
      "metadata": {
        "id": "zxgAZuTgOpHK"
      },
      "execution_count": null,
      "outputs": []
    },
    {
      "cell_type": "code",
      "source": [
        "\n",
        "# Cell 6: Tokenize the prompt\n",
        "input_ids = tokenizer(prompt, return_tensors=\"pt\").input_ids.to(model.device)\n",
        "attention_mask = tokenizer(prompt, return_tensors=\"pt\", padding=True).attention_mask.to(model.device)\n"
      ],
      "metadata": {
        "id": "FuiPI7dPOpBu"
      },
      "execution_count": null,
      "outputs": []
    },
    {
      "cell_type": "code",
      "source": [
        "\n",
        "# Cell 7: Enable cache and set model to evaluation mode\n",
        "model.config.use_cache = True\n",
        "model.eval()\n"
      ],
      "metadata": {
        "id": "dzOshXvHOo8H"
      },
      "execution_count": null,
      "outputs": []
    },
    {
      "cell_type": "code",
      "source": [
        "\n",
        "# Cell 8: Generate output from the model\n",
        "output = model.generate(\n",
        "    input_ids,\n",
        "    attention_mask=attention_mask,\n",
        "    max_new_tokens=150,\n",
        "    do_sample=True,\n",
        "    top_p=0.95,\n",
        "    top_k=50,\n",
        "    temperature=0.7,\n",
        "    num_return_sequences=1,\n",
        "    eos_token_id=tokenizer.eos_token_id,\n",
        "    pad_token_id=tokenizer.eos_token_id\n",
        ")\n"
      ],
      "metadata": {
        "id": "t6M_iaP3Ovgj"
      },
      "execution_count": null,
      "outputs": []
    },
    {
      "cell_type": "code",
      "source": [
        "\n",
        "# Cell 9: Decode the generated text\n",
        "generated_text = tokenizer.decode(output[0], skip_special_tokens=True)\n",
        "generated_response = generated_text[len(prompt):].strip()\n"
      ],
      "metadata": {
        "id": "wYm-M7TYOw4c"
      },
      "execution_count": null,
      "outputs": []
    },
    {
      "cell_type": "code",
      "execution_count": null,
      "metadata": {
        "id": "lIYdn1woOS1n"
      },
      "outputs": [],
      "source": [
        "\n",
        "# Cell 10: Display the generated response and actual response\n",
        "ref_response = sample['psychisch']  # Reference response from dataset\n",
        "print(\"GENERATED RESPONSE:\")\n",
        "print(generated_response)\n",
        "print(\"\\nREFERENCE RESPONSE:\")\n",
        "print(ref_response)"
      ]
    },
    {
      "cell_type": "code",
      "source": [
        "print(notes)"
      ],
      "metadata": {
        "id": "zD0h0_YcPnEn"
      },
      "execution_count": null,
      "outputs": []
    },
    {
      "cell_type": "code",
      "source": [],
      "metadata": {
        "id": "L5XYyn0tQpRE"
      },
      "execution_count": null,
      "outputs": []
    }
  ],
  "metadata": {
    "colab": {
      "provenance": [],
      "gpuType": "T4",
      "include_colab_link": true
    },
    "kernelspec": {
      "display_name": "Python 3",
      "name": "python3"
    },
    "accelerator": "GPU"
  },
  "nbformat": 4,
  "nbformat_minor": 0
}