{
  "nbformat": 4,
  "nbformat_minor": 0,
  "metadata": {
    "colab": {
      "private_outputs": true,
      "provenance": [],
      "machine_shape": "hm",
      "gpuType": "A100",
      "authorship_tag": "ABX9TyN+z7q/+sq6/sSaFgkdFqU/",
      "include_colab_link": true
    },
    "kernelspec": {
      "name": "python3",
      "display_name": "Python 3"
    },
    "language_info": {
      "name": "python"
    },
    "accelerator": "GPU"
  },
  "cells": [
    {
      "cell_type": "markdown",
      "metadata": {
        "id": "view-in-github",
        "colab_type": "text"
      },
      "source": [
        "<a href=\"https://colab.research.google.com/github/ekrombouts/GenCareAI/blob/work_in_progress/scripts/work_in_progress/420_CarePlan_mobility_TrainFietjeBase.ipynb\" target=\"_parent\"><img src=\"https://colab.research.google.com/assets/colab-badge.svg\" alt=\"Open In Colab\"/></a>"
      ]
    },
    {
      "cell_type": "code",
      "source": [
        "## Setup\n",
        "\n",
        "# Install the required packages\n",
        "!pip install -q transformers datasets\n",
        "\n",
        "import torch\n",
        "from transformers import AutoModelForCausalLM, AutoTokenizer, TrainingArguments, Trainer\n",
        "from datasets import load_dataset, Dataset, DatasetDict\n",
        "import time"
      ],
      "metadata": {
        "id": "cP1fuCaySi3Q"
      },
      "execution_count": null,
      "outputs": []
    },
    {
      "cell_type": "code",
      "source": [
        "path_hf_sampc = \"ekrombouts/Galaxy_SAMPC\""
      ],
      "metadata": {
        "id": "88a3_EU5mheU"
      },
      "execution_count": null,
      "outputs": []
    },
    {
      "cell_type": "code",
      "source": [
        "model_name = \"BramVanroy/fietje-2\"\n",
        "model_finetuned = \"fietje_zorgplan_base\"\n",
        "commit_message = \"Trained base model\""
      ],
      "metadata": {
        "id": "pTSibMD2S2Ts"
      },
      "execution_count": null,
      "outputs": []
    },
    {
      "cell_type": "code",
      "source": [
        "## Load model and tokenizer\n",
        "model = AutoModelForCausalLM.from_pretrained(\n",
        "    model_name,\n",
        "    torch_dtype=torch.bfloat16,\n",
        "    device_map='auto'\n",
        ")\n",
        "tokenizer = AutoTokenizer.from_pretrained(model_name)\n",
        "tokenizer.pad_token = tokenizer.eos_token\n",
        "\n",
        "print(f\"Memory footprint: {model.get_memory_footprint() / 1e9} GB\")"
      ],
      "metadata": {
        "id": "EJED0ArWS8qa"
      },
      "execution_count": null,
      "outputs": []
    },
    {
      "cell_type": "code",
      "source": [
        "## Prepare data\n",
        "dataset = load_dataset(path_hf_sampc)\n",
        "train_dataset = dataset['train']\n",
        "val_dataset = dataset['validation']"
      ],
      "metadata": {
        "id": "jLOb9Cf_TRAM"
      },
      "execution_count": null,
      "outputs": []
    },
    {
      "cell_type": "code",
      "source": [
        "def truncate_notes_to_fit_prompt(notes, max_length=1800):\n",
        "    \"\"\"\n",
        "    Tokeniseert en trunkert de 'notes' tekst om binnen de maximale lengte te passen.\n",
        "    \"\"\"\n",
        "    # Tokeniseer en truncateer de 'notes' tot max_length\n",
        "    tokens = tokenizer(notes, return_tensors=\"np\", truncation=True, max_length=max_length)\n",
        "\n",
        "    # Decodeer de getruncateerde tokens terug naar tekst\n",
        "    truncated_notes = tokenizer.decode(tokens[\"input_ids\"][0], skip_special_tokens=True)\n",
        "\n",
        "    return truncated_notes\n",
        "\n",
        "# Functie om de 'truncated_notes' kolom toe te voegen\n",
        "def add_truncated_notes(example):\n",
        "    notes_text = example[\"notes\"]\n",
        "    # Truncateer de 'notes' om binnen de 1800 token limiet te passen\n",
        "    truncated_notes = truncate_notes_to_fit_prompt(notes_text, max_length=1800)\n",
        "    # Retourneer het nieuwe veld 'truncated_notes'\n",
        "    return {\"truncated_notes\": truncated_notes}\n",
        "\n",
        "# Voeg een nieuwe kolom 'truncated_notes' toe aan de train_dataset\n",
        "train_dataset = train_dataset.map(add_truncated_notes)\n",
        "\n",
        "# Voeg een nieuwe kolom 'truncated_notes' toe aan de val_dataset\n",
        "val_dataset = val_dataset.map(add_truncated_notes)"
      ],
      "metadata": {
        "id": "rHL1kMQ4USUo"
      },
      "execution_count": null,
      "outputs": []
    },
    {
      "cell_type": "code",
      "source": [
        "# Functie die een prompt maakt van input en output en deze tokenizeert\n",
        "def collate_and_tokenize(examples):\n",
        "    notes = examples[\"truncated_notes\"][0]\n",
        "    mobiliteit = examples[\"mobiliteit\"][0]\n",
        "\n",
        "    # Maak de prompt voor tokenisatie en training\n",
        "    prompt = f'''Lees de volgende rapportages en beschrijf de mobiliteit van de cliënt.\n",
        "\n",
        "Rapportages:\n",
        "{notes}\n",
        "\n",
        "Beschrijf de mobiliteit van de cliënt:\n",
        "{mobiliteit}\n",
        "'''\n",
        "\n",
        "    # Tokeniseer de prompt\n",
        "    encoded = tokenizer(\n",
        "        prompt,\n",
        "        return_tensors=\"pt\",\n",
        "        padding=\"max_length\",\n",
        "        truncation=True,\n",
        "        max_length=2048,\n",
        "    )\n",
        "\n",
        "    encoded[\"labels\"] = encoded[\"input_ids\"].clone()\n",
        "    return encoded\n",
        "\n",
        "# We behouden alleen de 'input_ids' en 'labels'\n",
        "columns_to_remove = ['ct_id', 'week', 'notes', 'somatiek', 'adl', 'mobiliteit', 'continentie', 'maatschappelijk', 'psychisch', 'truncated_notes']\n",
        "\n",
        "# Tokeniseer de trainings- en validatiedatasets\n",
        "tokenized_dataset_train = train_dataset.map(collate_and_tokenize,\n",
        "                                            batched=True,\n",
        "                                            batch_size=1,\n",
        "                                            remove_columns=columns_to_remove)\n",
        "tokenized_dataset_val = val_dataset.map(collate_and_tokenize,\n",
        "                                        batched=True,\n",
        "                                        batch_size=1,\n",
        "                                        remove_columns=columns_to_remove)"
      ],
      "metadata": {
        "id": "4Oup9ph0UXRD"
      },
      "execution_count": null,
      "outputs": []
    },
    {
      "cell_type": "code",
      "source": [
        "# # Controleer of de tokenisatie correct is\n",
        "# input_ids = tokenized_dataset_train[5]['input_ids']\n",
        "# decoded = tokenizer.decode(input_ids, skip_special_tokens=True)\n",
        "# print(decoded)"
      ],
      "metadata": {
        "id": "TGFRPBwyUehp"
      },
      "execution_count": null,
      "outputs": []
    },
    {
      "cell_type": "code",
      "source": [
        "## Prepare model\n",
        "def print_trainable_parameters(model):\n",
        "    \"\"\"\n",
        "    Print het aantal trainbare parameters in het model.\n",
        "    \"\"\"\n",
        "    trainable_params = 0\n",
        "    all_param = 0\n",
        "    for _, param in model.named_parameters():\n",
        "        all_param += param.numel()\n",
        "        if param.requires_grad:\n",
        "            trainable_params += param.numel()\n",
        "    print(\n",
        "        f\"trainable params: {trainable_params} || all params: {all_param} || trainable%: {100 * trainable_params / all_param:.2f}%\"\n",
        "    )\n",
        "\n",
        "print_trainable_parameters(model)\n",
        "\n",
        "# Schakel gradient checkpointing in om geheugen te besparen\n",
        "model.gradient_checkpointing_enable()\n"
      ],
      "metadata": {
        "id": "ETo2VWL0U6uY"
      },
      "execution_count": null,
      "outputs": []
    },
    {
      "cell_type": "code",
      "execution_count": null,
      "metadata": {
        "id": "zzZHssMzSfeb"
      },
      "outputs": [],
      "source": [
        "## Train and save model\n",
        "training_args = TrainingArguments(\n",
        "    output_dir='./results_full',\n",
        "    report_to='none',\n",
        "    overwrite_output_dir=True,\n",
        "    num_train_epochs=1,\n",
        "    per_device_train_batch_size=1,\n",
        "    per_device_eval_batch_size=1,\n",
        "    gradient_accumulation_steps=8,\n",
        "    gradient_checkpointing=True,\n",
        "    warmup_steps=50,\n",
        "    logging_dir='./logs',\n",
        "    logging_strategy=\"steps\",\n",
        "    logging_steps=50,\n",
        "    save_strategy=\"steps\",\n",
        "    save_steps=100,\n",
        "    save_total_limit=2,\n",
        "    evaluation_strategy=\"steps\",\n",
        "    eval_steps=100,\n",
        "    load_best_model_at_end=True,\n",
        "    bf16=True,\n",
        "    learning_rate=5e-5,\n",
        "    weight_decay=0.01,\n",
        ")\n",
        "\n",
        "trainer = Trainer(\n",
        "    model=model,\n",
        "    train_dataset=tokenized_dataset_train,\n",
        "    eval_dataset=tokenized_dataset_val,\n",
        "    args=training_args,\n",
        ")\n"
      ]
    },
    {
      "cell_type": "code",
      "source": [
        "# Schakel cache uit om waarschuwingen te voorkomen, opnieuw inschakelen voor inferentie\n",
        "model.config.use_cache = False\n",
        "\n",
        "start_time = time.time()  # Starttijd\n",
        "trainer.train()  # Start training\n",
        "end_time = time.time()  # Eindtijd\n",
        "\n",
        "training_time = end_time - start_time  # Totale trainingstijd\n",
        "\n",
        "print(f\"Training completed in {training_time} seconds.\")\n",
        "\n",
        "# Sla het model op in de Hugging Face Hub\n",
        "model.push_to_hub(model_finetuned,\n",
        "                  use_auth_token=True,\n",
        "                  commit_message=commit_message,\n",
        "                  private=True)\n",
        "\n",
        "# Sla de tokenizer op in de Hugging Face Hub\n",
        "tokenizer.push_to_hub(model_finetuned,\n",
        "                      use_auth_token=True,\n",
        "                      commit_message=commit_message)\n",
        "# Beëindig de sessie om kosten te voorkomen\n",
        "from google.colab import runtime\n",
        "runtime.unassign()"
      ],
      "metadata": {
        "id": "AgPQDagqUMdY"
      },
      "execution_count": null,
      "outputs": []
    },
    {
      "cell_type": "code",
      "source": [],
      "metadata": {
        "id": "Tyls2tj-oi9Y"
      },
      "execution_count": null,
      "outputs": []
    }
  ]
}